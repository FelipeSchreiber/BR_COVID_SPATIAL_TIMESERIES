{
 "cells": [
  {
   "cell_type": "code",
   "execution_count": 1,
   "id": "93aa132d",
   "metadata": {},
   "outputs": [],
   "source": [
    "from scipy.integrate import odeint\n",
    "from lmfit import minimize, Parameters, Parameter, report_fit\n",
    "import pandas as pd\n",
    "import numpy as np\n",
    "import matplotlib.pyplot as plt\n",
    "import plotly.graph_objects as go\n",
    "import plotly.io as pio\n",
    "import os\n",
    "pio.renderers.default = \"notebook\"\n",
    "%matplotlib inline\n",
    "plt.style.use('ggplot')\n",
    "## \"Reference: https://github.com/silpara/simulators/tree/master/compartmental_models\""
   ]
  },
  {
   "cell_type": "code",
   "execution_count": 2,
   "id": "578ba33a",
   "metadata": {},
   "outputs": [],
   "source": [
    "from IPython.display import HTML\n",
    "from ipywidgets.widgets import interact, IntSlider, FloatSlider, Layout, ToggleButton\n",
    "\n",
    "style = {'description_width': '100px'}\n",
    "slider_layout = Layout(width='99%')"
   ]
  },
  {
   "cell_type": "code",
   "execution_count": 3,
   "id": "571763b5",
   "metadata": {},
   "outputs": [
    {
     "name": "stdout",
     "output_type": "stream",
     "text": [
      "Requirement already satisfied: plotly in /home/dell/anaconda3/lib/python3.9/site-packages (5.9.0)\r\n",
      "Requirement already satisfied: tenacity>=6.2.0 in /home/dell/anaconda3/lib/python3.9/site-packages (from plotly) (8.0.1)\r\n"
     ]
    }
   ],
   "source": [
    "# !pip3 install lmfit\n",
    "!pip install plotly"
   ]
  },
  {
   "cell_type": "code",
   "execution_count": 4,
   "id": "d0c889f4",
   "metadata": {},
   "outputs": [],
   "source": [
    "data = pd.read_csv('caso_full.csv')\n",
    "mapping = {}\n",
    "mapping['AC'] = \"Norte\"\n",
    "mapping['AL'] = \"Nordeste\"\n",
    "mapping['AM'] = \"Norte\"\n",
    "mapping['AP'] = \"Norte\"\n",
    "mapping['BA'] = \"Nordeste\"\n",
    "mapping['CE'] = \"Nordeste\"\n",
    "mapping['DF'] = \"Centro Oeste\"\n",
    "mapping['ES'] = \"Sudeste\"\n",
    "mapping['GO'] = \"Centro Oeste\"\n",
    "mapping['MA'] = \"Nordeste\"\n",
    "mapping['MG'] = \"Sudeste\"\n",
    "mapping['MS'] = \"Centro Oeste\"\n",
    "mapping['MT'] = \"Centro Oeste\"\n",
    "mapping['PA'] = \"Norte\"\n",
    "mapping['PB'] = \"Nordeste\"\n",
    "mapping['PE'] = \"Nordeste\"\n",
    "mapping['PI'] = \"Nordeste\"\n",
    "mapping['PR'] = \"Sul\"\n",
    "mapping['RJ'] = \"Sudeste\"\n",
    "mapping['RN'] = \"Nordeste\"\n",
    "mapping['RO'] = \"Centro Oeste\"\n",
    "mapping['RR'] = \"Norte\"\n",
    "mapping['RS'] = \"Sul\"\n",
    "mapping['SC'] = \"Sul\"\n",
    "mapping['SE'] = \"Nordeste\"\n",
    "mapping['SP'] = \"Sudeste\"\n",
    "mapping['TO'] = \"Norte\"\n",
    "field = \"last_available_confirmed\"\n",
    "data = data[(data['city'].isnull() == False) & (data['is_repeated'] == False)]\n",
    "columns_to_drop = ['city','place_type',\n",
    "                   'last_available_date','estimated_population',\n",
    "                   'is_last','is_repeated']\n",
    "data['date'] = pd.to_datetime(data['date'],format='%Y-%m-%d')\n",
    "data['region'] = data.apply (lambda row: mapping[row[\"state\"]], axis=1)\n",
    "pop_estimation = data[[\"estimated_population\",\"region\"]].groupby(\"region\").sum()\n",
    "data.drop(columns=columns_to_drop,inplace=True)\n",
    "min_date = data[\"date\"].min()\n",
    "max_date = data[\"date\"].max()\n",
    "delta = max_date - min_date\n",
    "dates = pd.date_range(start=min_date, end=max_date, freq='D')\n",
    "def interpolate_mun(mun_data,field):\n",
    "    series = mun_data[[field,\"date\",\"region\"]]\n",
    "    region_ = series.iloc[0].region\n",
    "    series = series.set_index(\"date\").reindex(dates).interpolate().ffill().fillna(0)\n",
    "    series[\"region\"] = region_\n",
    "    return series\n",
    "l = [\"Centro Oeste\",\"Nordeste\",\"Norte\",\"Sudeste\",\"Sul\"]"
   ]
  },
  {
   "cell_type": "code",
   "execution_count": 5,
   "id": "bcc6b7c8",
   "metadata": {},
   "outputs": [
    {
     "name": "stdout",
     "output_type": "stream",
     "text": [
      "0 Centro Oeste\n",
      "1 Nordeste\n",
      "2 Norte\n",
      "3 Sudeste\n",
      "4 Sul\n"
     ]
    }
   ],
   "source": [
    "agg_data = data[[field,\"city_ibge_code\",\"region\",\"date\"]]\\\n",
    "                            .groupby(\"city_ibge_code\")\\\n",
    "                            .apply(lambda x: interpolate_mun(x,field))\n",
    "agg_data[\"deaths\"] = data[[\"new_deaths\",\"city_ibge_code\",\"region\",\"date\"]]\\\n",
    "                            .groupby(\"city_ibge_code\")\\\n",
    "                            .apply(lambda x: interpolate_mun(x,\"new_deaths\"))[\"new_deaths\"]\n",
    "agg_data = agg_data.reset_index()\n",
    "agg_data.rename(columns={\"level_1\": \"date\"},inplace=True)\n",
    "agg_data = agg_data[[field,\"deaths\",\"region\",\"date\"]].groupby(['region',\"date\"]).sum()\n",
    "grouped = agg_data.reset_index().groupby(\"region\")\n",
    "infected = np.zeros((len(grouped),delta.days + 1))\n",
    "deaths = np.zeros((len(grouped),delta.days + 1))\n",
    "for i,(group, data_) in enumerate(grouped):\n",
    "    series = data_[[field,\"date\"]]\n",
    "    print(i,group)\n",
    "    series = series.set_index(\"date\").reindex(dates).interpolate().ffill().fillna(0)\n",
    "    infected[i,:] = series.values.reshape(len(series))\n",
    "    series = data_[[\"deaths\",\"date\"]]\n",
    "    series = series.set_index(\"date\").reindex(dates).interpolate().ffill().fillna(0)\n",
    "    deaths[i,:] = series.values.reshape(len(series))"
   ]
  },
  {
   "cell_type": "code",
   "execution_count": 6,
   "id": "b20912ed",
   "metadata": {},
   "outputs": [
    {
     "data": {
      "text/html": [
       "<div>\n",
       "<style scoped>\n",
       "    .dataframe tbody tr th:only-of-type {\n",
       "        vertical-align: middle;\n",
       "    }\n",
       "\n",
       "    .dataframe tbody tr th {\n",
       "        vertical-align: top;\n",
       "    }\n",
       "\n",
       "    .dataframe thead th {\n",
       "        text-align: right;\n",
       "    }\n",
       "</style>\n",
       "<table border=\"1\" class=\"dataframe\">\n",
       "  <thead>\n",
       "    <tr style=\"text-align: right;\">\n",
       "      <th></th>\n",
       "      <th></th>\n",
       "      <th>last_available_confirmed</th>\n",
       "      <th>deaths</th>\n",
       "    </tr>\n",
       "    <tr>\n",
       "      <th>region</th>\n",
       "      <th>date</th>\n",
       "      <th></th>\n",
       "      <th></th>\n",
       "    </tr>\n",
       "  </thead>\n",
       "  <tbody>\n",
       "    <tr>\n",
       "      <th rowspan=\"5\" valign=\"top\">Centro Oeste</th>\n",
       "      <th>2020-02-25</th>\n",
       "      <td>0.0</td>\n",
       "      <td>0.0</td>\n",
       "    </tr>\n",
       "    <tr>\n",
       "      <th>2020-02-26</th>\n",
       "      <td>0.0</td>\n",
       "      <td>0.0</td>\n",
       "    </tr>\n",
       "    <tr>\n",
       "      <th>2020-02-27</th>\n",
       "      <td>0.0</td>\n",
       "      <td>0.0</td>\n",
       "    </tr>\n",
       "    <tr>\n",
       "      <th>2020-02-28</th>\n",
       "      <td>0.0</td>\n",
       "      <td>0.0</td>\n",
       "    </tr>\n",
       "    <tr>\n",
       "      <th>2020-02-29</th>\n",
       "      <td>0.0</td>\n",
       "      <td>0.0</td>\n",
       "    </tr>\n",
       "    <tr>\n",
       "      <th>...</th>\n",
       "      <th>...</th>\n",
       "      <td>...</td>\n",
       "      <td>...</td>\n",
       "    </tr>\n",
       "    <tr>\n",
       "      <th rowspan=\"5\" valign=\"top\">Sul</th>\n",
       "      <th>2021-10-03</th>\n",
       "      <td>4125492.0</td>\n",
       "      <td>81.0</td>\n",
       "    </tr>\n",
       "    <tr>\n",
       "      <th>2021-10-04</th>\n",
       "      <td>4125929.0</td>\n",
       "      <td>85.0</td>\n",
       "    </tr>\n",
       "    <tr>\n",
       "      <th>2021-10-05</th>\n",
       "      <td>4127195.0</td>\n",
       "      <td>96.0</td>\n",
       "    </tr>\n",
       "    <tr>\n",
       "      <th>2021-10-06</th>\n",
       "      <td>4128203.0</td>\n",
       "      <td>88.0</td>\n",
       "    </tr>\n",
       "    <tr>\n",
       "      <th>2021-10-07</th>\n",
       "      <td>4129237.0</td>\n",
       "      <td>88.0</td>\n",
       "    </tr>\n",
       "  </tbody>\n",
       "</table>\n",
       "<p>2955 rows × 2 columns</p>\n",
       "</div>"
      ],
      "text/plain": [
       "                         last_available_confirmed  deaths\n",
       "region       date                                        \n",
       "Centro Oeste 2020-02-25                       0.0     0.0\n",
       "             2020-02-26                       0.0     0.0\n",
       "             2020-02-27                       0.0     0.0\n",
       "             2020-02-28                       0.0     0.0\n",
       "             2020-02-29                       0.0     0.0\n",
       "...                                           ...     ...\n",
       "Sul          2021-10-03                 4125492.0    81.0\n",
       "             2021-10-04                 4125929.0    85.0\n",
       "             2021-10-05                 4127195.0    96.0\n",
       "             2021-10-06                 4128203.0    88.0\n",
       "             2021-10-07                 4129237.0    88.0\n",
       "\n",
       "[2955 rows x 2 columns]"
      ]
     },
     "execution_count": 6,
     "metadata": {},
     "output_type": "execute_result"
    }
   ],
   "source": [
    "agg_data"
   ]
  },
  {
   "cell_type": "code",
   "execution_count": 7,
   "id": "14ba78c8",
   "metadata": {},
   "outputs": [],
   "source": [
    "dim = int(np.floor(infected.shape[1]/7))\n",
    "Y = np.zeros(( 5, dim))\n",
    "D = np.zeros((5,dim))\n",
    "for t in range(dim):\n",
    "    for i in range(5):\n",
    "        if t < dim - 1:\n",
    "            Y[i,t] = infected[i,7*t+7] - infected[i,7*t]\n",
    "            D[i,t] = np.sum(deaths[i,7*t:7*t+7])\n",
    "        else:\n",
    "            Y[i,t] = infected[i,-1]- infected[i,7*t]\n",
    "            D[i,t] = np.sum(deaths[i,7*t:])"
   ]
  },
  {
   "cell_type": "code",
   "execution_count": 8,
   "id": "7e587d91",
   "metadata": {},
   "outputs": [
    {
     "data": {
      "image/png": "[encoded data removed]",
      "text/plain": [
       "<Figure size 432x288 with 1 Axes>"
      ]
     },
     "metadata": {},
     "output_type": "display_data"
    }
   ],
   "source": [
    "for i in range(5):\n",
    "    plt.plot(Y[i,:],label=f\"infectados {l[i]}\")\n",
    "#     plt.plot(D[i,:],label=f\"mortes {l[i]}\")\n",
    "plt.legend()\n",
    "plt.ylabel(\"Total de casos agregados\")\n",
    "plt.xticks(rotation=45)\n",
    "plt.show()"
   ]
  },
  {
   "cell_type": "code",
   "execution_count": 9,
   "id": "3d84698f",
   "metadata": {},
   "outputs": [],
   "source": [
    "def ode_model(z, t, beta, sigma, gamma):\n",
    "    \"\"\"\n",
    "    Reference https://www.idmod.org/docs/hiv/model-seir.html\n",
    "    \"\"\"\n",
    "    S, E, I, R = z\n",
    "    N = S + E + I + R\n",
    "    dSdt = -beta*S*I/N\n",
    "    dEdt = beta*S*I/N - sigma*E\n",
    "    dIdt = sigma*E - gamma*I\n",
    "    dRdt = gamma*I\n",
    "    return [dSdt, dEdt, dIdt, dRdt]\n",
    "\n",
    "def ode_solver(t, initial_conditions, params):\n",
    "    initE, initI, initR, initN = initial_conditions\n",
    "    beta, sigma, gamma = params['beta'].value, params['sigma'].value, params['gamma'].value\n",
    "    initS = initN - (initE + initI + initR)\n",
    "    res = odeint(ode_model, [initS, initE, initI, initR], t, args=(beta, sigma, gamma))\n",
    "    return res"
   ]
  },
  {
   "cell_type": "code",
   "execution_count": 16,
   "id": "0e427473",
   "metadata": {},
   "outputs": [
    {
     "data": {
      "text/plain": [
       "estimated_population    9322173.31\n",
       "Name: Centro Oeste, dtype: float64"
      ]
     },
     "execution_count": 16,
     "metadata": {},
     "output_type": "execute_result"
    }
   ],
   "source": [
    "pop_estimation/=1e3\n",
    "pop_estimation.iloc[0]"
   ]
  },
  {
   "cell_type": "code",
   "execution_count": 35,
   "id": "5a6304a3",
   "metadata": {},
   "outputs": [],
   "source": [
    "initN = pop_estimation.iloc[0]\n",
    "initE = 1000\n",
    "initI = 47\n",
    "initR = 0\n",
    "sigma = 1/5.2\n",
    "gamma = 1/2.9\n",
    "R0 = 4\n",
    "beta = R0 * gamma\n",
    "days = Y.shape[1]\n",
    "params = Parameters()\n",
    "params.add('beta', value=beta, min=0, max=10)\n",
    "params.add('sigma', value=sigma, min=0, max=10)\n",
    "params.add('gamma', value=gamma, min=0, max=10)"
   ]
  },
  {
   "cell_type": "code",
   "execution_count": 36,
   "id": "60791ec6",
   "metadata": {},
   "outputs": [],
   "source": [
    "df = pd.DataFrame.from_dict({\"infected\":infected[i,:],\"total_recovered_or_dead\":deaths[i,:]})"
   ]
  },
  {
   "cell_type": "markdown",
   "id": "cd70ed35",
   "metadata": {},
   "source": [
    "# Simulation"
   ]
  },
  {
   "cell_type": "code",
   "execution_count": 37,
   "id": "a2636dbc",
   "metadata": {},
   "outputs": [],
   "source": [
    "def main(initE, initI, initR, initN, beta, sigma, gamma, days, param_fitting):\n",
    "    initial_conditions = [initE, initI, initR, initN]\n",
    "    params['beta'].value, params['sigma'].value,params['gamma'].value = [beta, sigma, gamma]\n",
    "    tspan = np.arange(0, days, 1)\n",
    "    sol = ode_solver(tspan, initial_conditions, params)\n",
    "    S, E, I, R = sol[:, 0], sol[:, 1], sol[:, 2], sol[:, 3]\n",
    "    \n",
    "    # Create traces\n",
    "    fig = go.Figure()\n",
    "    if not param_fitting:\n",
    "        fig.add_trace(go.Scatter(x=tspan, y=S, mode='lines+markers', name='Susceptible'))\n",
    "        fig.add_trace(go.Scatter(x=tspan, y=E, mode='lines+markers', name='Exposed'))\n",
    "    fig.add_trace(go.Scatter(x=tspan, y=I, mode='lines+markers', name='Infected'))\n",
    "    fig.add_trace(go.Scatter(x=tspan, y=R, mode='lines+markers',name='Recovered'))\n",
    "    if param_fitting:\n",
    "        fig.add_trace(go.Scatter(x=tspan, y=df.infected, mode='lines+markers',\\\n",
    "                             name='Infections Observed', line = dict(dash='dash')))\n",
    "        fig.add_trace(go.Scatter(x=tspan, y=df.total_recovered_or_dead, mode='lines+markers',\\\n",
    "                             name='Recovered/Deceased Observed', line = dict(dash='dash')))\n",
    "    \n",
    "    if days <= 30:\n",
    "        step = 1\n",
    "    elif days <= 90:\n",
    "        step = 7\n",
    "    else:\n",
    "        step = 30\n",
    "    \n",
    "    # Edit the layout\n",
    "    fig.update_layout(title='Simulation of SEIR Model',\n",
    "                       xaxis_title='Day',\n",
    "                       yaxis_title='Counts',\n",
    "                       title_x=0.5,\n",
    "                      width=900, height=600\n",
    "                     )\n",
    "    fig.update_xaxes(tickangle=-90, tickformat = None, tickmode='array', tickvals=np.arange(0, days + 1, step))\n",
    "    if not os.path.exists(\"images\"):\n",
    "        os.mkdir(\"images\")\n",
    "    fig.write_image(\"images/seir_simulation.png\")\n",
    "    fig.show()\n"
   ]
  },
  {
   "cell_type": "code",
   "execution_count": 48,
   "id": "73120512",
   "metadata": {},
   "outputs": [
    {
     "data": {
      "application/vnd.jupyter.widget-view+json": {
       "model_id": "3c140d25032e4185aeafe7fad9c3b4e3",
       "version_major": 2,
       "version_minor": 0
      },
      "text/plain": [
       "interactive(children=(IntSlider(value=1000, description='initE', layout=Layout(width='99%'), max=100000, style…"
      ]
     },
     "metadata": {},
     "output_type": "display_data"
    }
   ],
   "source": [
    "interact(main, initE=IntSlider(min=0, max=100000, step=1, value=initE, description='initE', style=style, \\\n",
    "                               layout=slider_layout),\n",
    "               initI=IntSlider(min=0, max=100000, step=10, value=initI, description='initI', style=style, \\\n",
    "                               layout=slider_layout),\n",
    "               initR=IntSlider(min=0, max=100000, step=10, value=initR, description='initR', style=style, \\\n",
    "                               layout=slider_layout),\n",
    "               initN=IntSlider(min=0, max=pop_estimation.iloc[0], step=1000, value=initN, description='initN', style=style, \\\n",
    "                               layout=slider_layout),\n",
    "               beta=FloatSlider(min=0, max=4, step=0.01, value=beta, description='Infection rate', style=style, \\\n",
    "                                layout=slider_layout),\n",
    "               sigma=FloatSlider(min=0, max=4, step=0.01, value=sigma, description='Incubation rate', style=style, \\\n",
    "                                 layout=slider_layout),\n",
    "               gamma=FloatSlider(min=0, max=4, step=0.01, value=gamma, description='Recovery rate', style=style, \\\n",
    "                                 layout=slider_layout),\n",
    "               days=IntSlider(min=0, max=600, step=7, value=days, description='Days', style=style, \\\n",
    "                              layout=slider_layout),\n",
    "               param_fitting=ToggleButton(value=False, description='Fitting Mode', disabled=False, button_style='', \\\n",
    "             tooltip='Click to show fewer plots', icon='check-circle')\n",
    "        );\n"
   ]
  },
  {
   "cell_type": "markdown",
   "id": "9e1f7719",
   "metadata": {},
   "source": [
    "# Parameter estimation"
   ]
  },
  {
   "cell_type": "code",
   "execution_count": 39,
   "id": "c16acc67",
   "metadata": {},
   "outputs": [],
   "source": [
    "def error(params, initial_conditions, tspan, data):\n",
    "    sol = ode_solver(tspan, initial_conditions, params)\n",
    "    return (sol[:, 2:4] - data).ravel()"
   ]
  },
  {
   "cell_type": "code",
   "execution_count": 45,
   "id": "8db74a05",
   "metadata": {},
   "outputs": [],
   "source": [
    "initial_conditions = [initE, initI, initR, initN]\n",
    "beta = 1.08\n",
    "sigma = 0.02\n",
    "gamma = 0.02\n",
    "params['beta'].value = beta\n",
    "params['sigma'].value = sigma\n",
    "params['gamma'].value = gamma\n",
    "days = 35\n",
    "tspan = np.arange(0, days, 1)\n",
    "data_sir = df.loc[0:(days-1), ['infected', 'total_recovered_or_dead']].values"
   ]
  },
  {
   "cell_type": "code",
   "execution_count": 46,
   "id": "a92fbacc",
   "metadata": {},
   "outputs": [],
   "source": [
    "result = minimize(error, params, args=(initial_conditions, tspan, data_sir), method='leastsq')"
   ]
  },
  {
   "cell_type": "code",
   "execution_count": 47,
   "id": "6440de87",
   "metadata": {},
   "outputs": [
    {
     "data": {
      "text/html": [
       "<div>                            <div id=\"6a499db4-5b0b-4aa5-a582-4e2b72bd8b2a\" class=\"plotly-graph-div\" style=\"height:600px; width:1000px;\"></div>            <script type=\"text/javascript\">                require([\"plotly\"], function(Plotly) {                    window.PLOTLYENV=window.PLOTLYENV || {};                                    if (document.getElementById(\"6a499db4-5b0b-4aa5-a582-4e2b72bd8b2a\")) {                    Plotly.newPlot(                        \"6a499db4-5b0b-4aa5-a582-4e2b72bd8b2a\",                        [{\"line\":{\"dash\":\"dot\"},\"mode\":\"markers\",\"name\":\"Observed Infections\",\"x\":[0,1,2,3,4,5,6,7,8,9,10,11,12,13,14,15,16,17,18,19,20,21,22,23,24,25,26,27,28,29,30,31,32,33,34],\"y\":[0.0,0.0,0.0,0.0,0.0,0.0,0.0,0.0,0.0,0.0,0.0,0.0,0.0,0.0,1.0,2.0,12.0,13.0,16.333333333333332,18.666666666666664,21.0,32.0,48.2,76.4,119.6,170.8,195.0,238.0,286.0,369.0,433.0,473.0,509.0,566.0,620.0],\"type\":\"scatter\"},{\"line\":{\"dash\":\"dot\"},\"mode\":\"markers\",\"name\":\"Observed Recovered/Deceased\",\"x\":[0,1,2,3,4,5,6,7,8,9,10,11,12,13,14,15,16,17,18,19,20,21,22,23,24,25,26,27,28,29,30,31,32,33,34],\"y\":[0.0,0.0,0.0,0.0,0.0,0.0,0.0,0.0,0.0,0.0,0.0,0.0,0.0,0.0,0.0,0.0,0.0,0.0,0.0,0.0,0.0,0.0,0.0,0.0,0.0,0.0,0.0,0.0,0.0,1.0,1.0,3.0,0.0,0.0,4.0],\"type\":\"scatter\"},{\"mode\":\"lines+markers\",\"name\":\"Fitted Infections\",\"x\":[0,1,2,3,4,5,6,7,8,9,10,11,12,13,14,15,16,17,18,19,20,21,22,23,24,25,26,27,28,29,30,31,32,33,34],\"y\":[47.0,47.83296004012708,49.033907296524916,50.61086652452819,52.57474842215122,54.93942281303451,57.721816519292716,60.942032320785394,64.62349278948068,68.79310957918263,73.48147853228801,78.72310260392894,84.55664381236677,91.02520651153006,98.17665348125331,106.0639573626968,114.74558989714538,124.28595170924152,134.7558457764863,146.23299792654848,158.80262800430975,172.5580737448076,187.60147918993522,204.0445405029909,222.00932490748258,241.62916185374795,263.04961707269376,286.42955285100663,311.94228336541397,339.7768315985524,370.1392975651851,403.2543459352329,439.3668224590798,478.7435099289608,521.675033609209],\"type\":\"scatter\"},{\"mode\":\"lines+markers\",\"name\":\"Fitted Recovered/Deceased\",\"x\":[0,1,2,3,4,5,6,7,8,9,10,11,12,13,14,15,16,17,18,19,20,21,22,23,24,25,26,27,28,29,30,31,32,33,34],\"y\":[0.0,0.12658068891324514,0.25587645530855724,0.38888037694622546,0.526610805137696,0.6701191657504014,0.8204979972997803,0.9788892671788364,1.1464930398159505,1.3245765679144432,1.5144838667188651,1.7176458487669581,1.93559108349567,2.169957287045582,2.422503599748117,2.6951237581557828,2.9898602563458656,3.3089195993756624,3.6546887648991104,4.0297529931107805,4.43691503405977,4.879215922848164,5.359957700586058,5.882727815340556,6.451425763624838,7.0702919250119995,7.743938963844397,8.477385900529274,9.276095159926635,10.146012816010751,11.093612365718599,12.125942310699074,13.250677871469025,14.476177208539363,15.81154249863518],\"type\":\"scatter\"}],                        {\"template\":{\"data\":{\"histogram2dcontour\":[{\"type\":\"histogram2dcontour\",\"colorbar\":{\"outlinewidth\":0,\"ticks\":\"\"},\"colorscale\":[[0.0,\"#0d0887\"],[0.1111111111111111,\"#46039f\"],[0.2222222222222222,\"#7201a8\"],[0.3333333333333333,\"#9c179e\"],[0.4444444444444444,\"#bd3786\"],[0.5555555555555556,\"#d8576b\"],[0.6666666666666666,\"#ed7953\"],[0.7777777777777778,\"#fb9f3a\"],[0.8888888888888888,\"#fdca26\"],[1.0,\"#f0f921\"]]}],\"choropleth\":[{\"type\":\"choropleth\",\"colorbar\":{\"outlinewidth\":0,\"ticks\":\"\"}}],\"histogram2d\":[{\"type\":\"histogram2d\",\"colorbar\":{\"outlinewidth\":0,\"ticks\":\"\"},\"colorscale\":[[0.0,\"#0d0887\"],[0.1111111111111111,\"#46039f\"],[0.2222222222222222,\"#7201a8\"],[0.3333333333333333,\"#9c179e\"],[0.4444444444444444,\"#bd3786\"],[0.5555555555555556,\"#d8576b\"],[0.6666666666666666,\"#ed7953\"],[0.7777777777777778,\"#fb9f3a\"],[0.8888888888888888,\"#fdca26\"],[1.0,\"#f0f921\"]]}],\"heatmap\":[{\"type\":\"heatmap\",\"colorbar\":{\"outlinewidth\":0,\"ticks\":\"\"},\"colorscale\":[[0.0,\"#0d0887\"],[0.1111111111111111,\"#46039f\"],[0.2222222222222222,\"#7201a8\"],[0.3333333333333333,\"#9c179e\"],[0.4444444444444444,\"#bd3786\"],[0.5555555555555556,\"#d8576b\"],[0.6666666666666666,\"#ed7953\"],[0.7777777777777778,\"#fb9f3a\"],[0.8888888888888888,\"#fdca26\"],[1.0,\"#f0f921\"]]}],\"heatmapgl\":[{\"type\":\"heatmapgl\",\"colorbar\":{\"outlinewidth\":0,\"ticks\":\"\"},\"colorscale\":[[0.0,\"#0d0887\"],[0.1111111111111111,\"#46039f\"],[0.2222222222222222,\"#7201a8\"],[0.3333333333333333,\"#9c179e\"],[0.4444444444444444,\"#bd3786\"],[0.5555555555555556,\"#d8576b\"],[0.6666666666666666,\"#ed7953\"],[0.7777777777777778,\"#fb9f3a\"],[0.8888888888888888,\"#fdca26\"],[1.0,\"#f0f921\"]]}],\"contourcarpet\":[{\"type\":\"contourcarpet\",\"colorbar\":{\"outlinewidth\":0,\"ticks\":\"\"}}],\"contour\":[{\"type\":\"contour\",\"colorbar\":{\"outlinewidth\":0,\"ticks\":\"\"},\"colorscale\":[[0.0,\"#0d0887\"],[0.1111111111111111,\"#46039f\"],[0.2222222222222222,\"#7201a8\"],[0.3333333333333333,\"#9c179e\"],[0.4444444444444444,\"#bd3786\"],[0.5555555555555556,\"#d8576b\"],[0.6666666666666666,\"#ed7953\"],[0.7777777777777778,\"#fb9f3a\"],[0.8888888888888888,\"#fdca26\"],[1.0,\"#f0f921\"]]}],\"surface\":[{\"type\":\"surface\",\"colorbar\":{\"outlinewidth\":0,\"ticks\":\"\"},\"colorscale\":[[0.0,\"#0d0887\"],[0.1111111111111111,\"#46039f\"],[0.2222222222222222,\"#7201a8\"],[0.3333333333333333,\"#9c179e\"],[0.4444444444444444,\"#bd3786\"],[0.5555555555555556,\"#d8576b\"],[0.6666666666666666,\"#ed7953\"],[0.7777777777777778,\"#fb9f3a\"],[0.8888888888888888,\"#fdca26\"],[1.0,\"#f0f921\"]]}],\"mesh3d\":[{\"type\":\"mesh3d\",\"colorbar\":{\"outlinewidth\":0,\"ticks\":\"\"}}],\"scatter\":[{\"fillpattern\":{\"fillmode\":\"overlay\",\"size\":10,\"solidity\":0.2},\"type\":\"scatter\"}],\"parcoords\":[{\"type\":\"parcoords\",\"line\":{\"colorbar\":{\"outlinewidth\":0,\"ticks\":\"\"}}}],\"scatterpolargl\":[{\"type\":\"scatterpolargl\",\"marker\":{\"colorbar\":{\"outlinewidth\":0,\"ticks\":\"\"}}}],\"bar\":[{\"error_x\":{\"color\":\"#2a3f5f\"},\"error_y\":{\"color\":\"#2a3f5f\"},\"marker\":{\"line\":{\"color\":\"#E5ECF6\",\"width\":0.5},\"pattern\":{\"fillmode\":\"overlay\",\"size\":10,\"solidity\":0.2}},\"type\":\"bar\"}],\"scattergeo\":[{\"type\":\"scattergeo\",\"marker\":{\"colorbar\":{\"outlinewidth\":0,\"ticks\":\"\"}}}],\"scatterpolar\":[{\"type\":\"scatterpolar\",\"marker\":{\"colorbar\":{\"outlinewidth\":0,\"ticks\":\"\"}}}],\"histogram\":[{\"marker\":{\"pattern\":{\"fillmode\":\"overlay\",\"size\":10,\"solidity\":0.2}},\"type\":\"histogram\"}],\"scattergl\":[{\"type\":\"scattergl\",\"marker\":{\"colorbar\":{\"outlinewidth\":0,\"ticks\":\"\"}}}],\"scatter3d\":[{\"type\":\"scatter3d\",\"line\":{\"colorbar\":{\"outlinewidth\":0,\"ticks\":\"\"}},\"marker\":{\"colorbar\":{\"outlinewidth\":0,\"ticks\":\"\"}}}],\"scattermapbox\":[{\"type\":\"scattermapbox\",\"marker\":{\"colorbar\":{\"outlinewidth\":0,\"ticks\":\"\"}}}],\"scatterternary\":[{\"type\":\"scatterternary\",\"marker\":{\"colorbar\":{\"outlinewidth\":0,\"ticks\":\"\"}}}],\"scattercarpet\":[{\"type\":\"scattercarpet\",\"marker\":{\"colorbar\":{\"outlinewidth\":0,\"ticks\":\"\"}}}],\"carpet\":[{\"aaxis\":{\"endlinecolor\":\"#2a3f5f\",\"gridcolor\":\"white\",\"linecolor\":\"white\",\"minorgridcolor\":\"white\",\"startlinecolor\":\"#2a3f5f\"},\"baxis\":{\"endlinecolor\":\"#2a3f5f\",\"gridcolor\":\"white\",\"linecolor\":\"white\",\"minorgridcolor\":\"white\",\"startlinecolor\":\"#2a3f5f\"},\"type\":\"carpet\"}],\"table\":[{\"cells\":{\"fill\":{\"color\":\"#EBF0F8\"},\"line\":{\"color\":\"white\"}},\"header\":{\"fill\":{\"color\":\"#C8D4E3\"},\"line\":{\"color\":\"white\"}},\"type\":\"table\"}],\"barpolar\":[{\"marker\":{\"line\":{\"color\":\"#E5ECF6\",\"width\":0.5},\"pattern\":{\"fillmode\":\"overlay\",\"size\":10,\"solidity\":0.2}},\"type\":\"barpolar\"}],\"pie\":[{\"automargin\":true,\"type\":\"pie\"}]},\"layout\":{\"autotypenumbers\":\"strict\",\"colorway\":[\"#636efa\",\"#EF553B\",\"#00cc96\",\"#ab63fa\",\"#FFA15A\",\"#19d3f3\",\"#FF6692\",\"#B6E880\",\"#FF97FF\",\"#FECB52\"],\"font\":{\"color\":\"#2a3f5f\"},\"hovermode\":\"closest\",\"hoverlabel\":{\"align\":\"left\"},\"paper_bgcolor\":\"white\",\"plot_bgcolor\":\"#E5ECF6\",\"polar\":{\"bgcolor\":\"#E5ECF6\",\"angularaxis\":{\"gridcolor\":\"white\",\"linecolor\":\"white\",\"ticks\":\"\"},\"radialaxis\":{\"gridcolor\":\"white\",\"linecolor\":\"white\",\"ticks\":\"\"}},\"ternary\":{\"bgcolor\":\"#E5ECF6\",\"aaxis\":{\"gridcolor\":\"white\",\"linecolor\":\"white\",\"ticks\":\"\"},\"baxis\":{\"gridcolor\":\"white\",\"linecolor\":\"white\",\"ticks\":\"\"},\"caxis\":{\"gridcolor\":\"white\",\"linecolor\":\"white\",\"ticks\":\"\"}},\"coloraxis\":{\"colorbar\":{\"outlinewidth\":0,\"ticks\":\"\"}},\"colorscale\":{\"sequential\":[[0.0,\"#0d0887\"],[0.1111111111111111,\"#46039f\"],[0.2222222222222222,\"#7201a8\"],[0.3333333333333333,\"#9c179e\"],[0.4444444444444444,\"#bd3786\"],[0.5555555555555556,\"#d8576b\"],[0.6666666666666666,\"#ed7953\"],[0.7777777777777778,\"#fb9f3a\"],[0.8888888888888888,\"#fdca26\"],[1.0,\"#f0f921\"]],\"sequentialminus\":[[0.0,\"#0d0887\"],[0.1111111111111111,\"#46039f\"],[0.2222222222222222,\"#7201a8\"],[0.3333333333333333,\"#9c179e\"],[0.4444444444444444,\"#bd3786\"],[0.5555555555555556,\"#d8576b\"],[0.6666666666666666,\"#ed7953\"],[0.7777777777777778,\"#fb9f3a\"],[0.8888888888888888,\"#fdca26\"],[1.0,\"#f0f921\"]],\"diverging\":[[0,\"#8e0152\"],[0.1,\"#c51b7d\"],[0.2,\"#de77ae\"],[0.3,\"#f1b6da\"],[0.4,\"#fde0ef\"],[0.5,\"#f7f7f7\"],[0.6,\"#e6f5d0\"],[0.7,\"#b8e186\"],[0.8,\"#7fbc41\"],[0.9,\"#4d9221\"],[1,\"#276419\"]]},\"xaxis\":{\"gridcolor\":\"white\",\"linecolor\":\"white\",\"ticks\":\"\",\"title\":{\"standoff\":15},\"zerolinecolor\":\"white\",\"automargin\":true,\"zerolinewidth\":2},\"yaxis\":{\"gridcolor\":\"white\",\"linecolor\":\"white\",\"ticks\":\"\",\"title\":{\"standoff\":15},\"zerolinecolor\":\"white\",\"automargin\":true,\"zerolinewidth\":2},\"scene\":{\"xaxis\":{\"backgroundcolor\":\"#E5ECF6\",\"gridcolor\":\"white\",\"linecolor\":\"white\",\"showbackground\":true,\"ticks\":\"\",\"zerolinecolor\":\"white\",\"gridwidth\":2},\"yaxis\":{\"backgroundcolor\":\"#E5ECF6\",\"gridcolor\":\"white\",\"linecolor\":\"white\",\"showbackground\":true,\"ticks\":\"\",\"zerolinecolor\":\"white\",\"gridwidth\":2},\"zaxis\":{\"backgroundcolor\":\"#E5ECF6\",\"gridcolor\":\"white\",\"linecolor\":\"white\",\"showbackground\":true,\"ticks\":\"\",\"zerolinecolor\":\"white\",\"gridwidth\":2}},\"shapedefaults\":{\"line\":{\"color\":\"#2a3f5f\"}},\"annotationdefaults\":{\"arrowcolor\":\"#2a3f5f\",\"arrowhead\":0,\"arrowwidth\":1},\"geo\":{\"bgcolor\":\"white\",\"landcolor\":\"#E5ECF6\",\"subunitcolor\":\"white\",\"showland\":true,\"showlakes\":true,\"lakecolor\":\"white\"},\"title\":{\"x\":0.05},\"mapbox\":{\"style\":\"light\"}}},\"title\":{\"text\":\"Observed vs Fitted\",\"x\":0.5},\"xaxis\":{\"title\":{\"text\":\"Day\"}},\"yaxis\":{\"title\":{\"text\":\"Counts\"}},\"width\":1000,\"height\":600},                        {\"responsive\": true}                    ).then(function(){\n",
       "                            \n",
       "var gd = document.getElementById('6a499db4-5b0b-4aa5-a582-4e2b72bd8b2a');\n",
       "var x = new MutationObserver(function (mutations, observer) {{\n",
       "        var display = window.getComputedStyle(gd).display;\n",
       "        if (!display || display === 'none') {{\n",
       "            console.log([gd, 'removed!']);\n",
       "            Plotly.purge(gd);\n",
       "            observer.disconnect();\n",
       "        }}\n",
       "}});\n",
       "\n",
       "// Listen for the removal of the full notebook cells\n",
       "var notebookContainer = gd.closest('#notebook-container');\n",
       "if (notebookContainer) {{\n",
       "    x.observe(notebookContainer, {childList: true});\n",
       "}}\n",
       "\n",
       "// Listen for the clearing of the current output cell\n",
       "var outputEl = gd.closest('.output');\n",
       "if (outputEl) {{\n",
       "    x.observe(outputEl, {childList: true});\n",
       "}}\n",
       "\n",
       "                        })                };                });            </script>        </div>"
      ]
     },
     "metadata": {},
     "output_type": "display_data"
    }
   ],
   "source": [
    "final = data_sir + result.residual.reshape(data_sir.shape)\n",
    "fig = go.Figure()\n",
    "fig.add_trace(go.Scatter(x=tspan, y=data_sir[:, 0], mode='markers', name='Observed Infections', line = dict(dash='dot')))\n",
    "fig.add_trace(go.Scatter(x=tspan, y=data_sir[:, 1], mode='markers', name='Observed Recovered/Deceased', line = dict(dash='dot')))\n",
    "fig.add_trace(go.Scatter(x=tspan, y=final[:, 0], mode='lines+markers', name='Fitted Infections'))\n",
    "fig.add_trace(go.Scatter(x=tspan, y=final[:, 1], mode='lines+markers', name='Fitted Recovered/Deceased'))\n",
    "fig.update_layout(title='Observed vs Fitted',\n",
    "                       xaxis_title='Day',\n",
    "                       yaxis_title='Counts',\n",
    "                       title_x=0.5,\n",
    "                      width=1000, height=600\n",
    "                     )"
   ]
  },
  {
   "cell_type": "code",
   "execution_count": null,
   "id": "4478e2b5",
   "metadata": {},
   "outputs": [],
   "source": []
  }
 ],
 "metadata": {
  "kernelspec": {
   "display_name": "Python 3 (ipykernel)",
   "language": "python",
   "name": "python3"
  },
  "language_info": {
   "codemirror_mode": {
    "name": "ipython",
    "version": 3
   },
   "file_extension": ".py",
   "mimetype": "text/x-python",
   "name": "python",
   "nbconvert_exporter": "python",
   "pygments_lexer": "ipython3",
   "version": "3.9.7"
  }
 },
 "nbformat": 4,
 "nbformat_minor": 5
}
