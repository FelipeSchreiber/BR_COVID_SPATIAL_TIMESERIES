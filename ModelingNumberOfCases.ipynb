{
 "cells": [
  {
   "cell_type": "code",
   "execution_count": 1,
   "id": "30d5e008",
   "metadata": {},
   "outputs": [],
   "source": [
    "import pandas as pd\n",
    "import numpy as np\n",
    "import matplotlib.pyplot as plt\n",
    "import cvxpy as cp\n",
    "import numpy as np"
   ]
  },
  {
   "cell_type": "code",
   "execution_count": 2,
   "id": "e371e01a",
   "metadata": {},
   "outputs": [],
   "source": [
    "data = pd.read_csv('caso_full.csv')"
   ]
  },
  {
   "cell_type": "code",
   "execution_count": 3,
   "id": "45f5ca31",
   "metadata": {},
   "outputs": [
    {
     "data": {
      "text/plain": [
       "Index(['city', 'city_ibge_code', 'date', 'epidemiological_week',\n",
       "       'estimated_population', 'estimated_population_2019', 'is_last',\n",
       "       'is_repeated', 'last_available_confirmed',\n",
       "       'last_available_confirmed_per_100k_inhabitants', 'last_available_date',\n",
       "       'last_available_death_rate', 'last_available_deaths', 'order_for_place',\n",
       "       'place_type', 'state', 'new_confirmed', 'new_deaths'],\n",
       "      dtype='object')"
      ]
     },
     "execution_count": 3,
     "metadata": {},
     "output_type": "execute_result"
    }
   ],
   "source": [
    "data.columns"
   ]
  },
  {
   "cell_type": "code",
   "execution_count": 4,
   "id": "7903a200",
   "metadata": {},
   "outputs": [],
   "source": [
    "mapping = {}\n",
    "mapping['AC'] = \"Norte\"\n",
    "mapping['AL'] = \"Nordeste\"\n",
    "mapping['AM'] = \"Norte\"\n",
    "mapping['AP'] = \"Norte\"\n",
    "mapping['BA'] = \"Nordeste\"\n",
    "mapping['CE'] = \"Nordeste\"\n",
    "mapping['DF'] = \"Centro Oeste\"\n",
    "mapping['ES'] = \"Sudeste\"\n",
    "mapping['GO'] = \"Centro Oeste\"\n",
    "mapping['MA'] = \"Nordeste\"\n",
    "mapping['MG'] = \"Sudeste\"\n",
    "mapping['MS'] = \"Centro Oeste\"\n",
    "mapping['MT'] = \"Centro Oeste\"\n",
    "mapping['PA'] = \"Norte\"\n",
    "mapping['PB'] = \"Nordeste\"\n",
    "mapping['PE'] = \"Nordeste\"\n",
    "mapping['PI'] = \"Nordeste\"\n",
    "mapping['PR'] = \"Sul\"\n",
    "mapping['RJ'] = \"Sudeste\"\n",
    "mapping['RN'] = \"Nordeste\"\n",
    "mapping['RO'] = \"Centro Oeste\"\n",
    "mapping['RR'] = \"Norte\"\n",
    "mapping['RS'] = \"Sul\"\n",
    "mapping['SC'] = \"Sul\"\n",
    "mapping['SE'] = \"Nordeste\"\n",
    "mapping['SP'] = \"Sudeste\"\n",
    "mapping['TO'] = \"Norte\""
   ]
  },
  {
   "cell_type": "code",
   "execution_count": 5,
   "id": "0af5f188",
   "metadata": {},
   "outputs": [],
   "source": [
    "# field = \"last_available_confirmed_per_100k_inhabitants\"\n",
    "field = \"total_casos\""
   ]
  },
  {
   "cell_type": "code",
   "execution_count": 6,
   "id": "cf2582db",
   "metadata": {},
   "outputs": [],
   "source": [
    "data = data[(data['city'].isnull() == False) & (data['is_repeated'] == False)]\n",
    "data[\"total_casos\"] = data[\"last_available_confirmed_per_100k_inhabitants\"] * data[\"estimated_population_2019\"]\n",
    "columns_to_drop = ['city','place_type','last_available_confirmed',\n",
    "                   'last_available_date','estimated_population',\n",
    "                   'is_last','is_repeated']\n",
    "data.drop(columns=columns_to_drop,inplace=True)\n",
    "data['date'] = pd.to_datetime(data['date'],format='%Y-%m-%d')\n",
    "data['region'] = data.apply (lambda row: mapping[row[\"state\"]], axis=1)"
   ]
  },
  {
   "cell_type": "code",
   "execution_count": 7,
   "id": "9cdf33ba",
   "metadata": {
    "scrolled": true
   },
   "outputs": [
    {
     "data": {
      "text/plain": [
       "27"
      ]
     },
     "execution_count": 7,
     "metadata": {},
     "output_type": "execute_result"
    }
   ],
   "source": [
    "data[\"state\"].nunique()"
   ]
  },
  {
   "cell_type": "code",
   "execution_count": 8,
   "id": "c9e10812",
   "metadata": {},
   "outputs": [
    {
     "data": {
      "text/plain": [
       "array(['Norte', 'Nordeste', 'Centro Oeste', 'Sudeste', 'Sul'],\n",
       "      dtype=object)"
      ]
     },
     "execution_count": 8,
     "metadata": {},
     "output_type": "execute_result"
    }
   ],
   "source": [
    "data.region.unique()"
   ]
  },
  {
   "cell_type": "code",
   "execution_count": 9,
   "id": "5fa903dc",
   "metadata": {},
   "outputs": [],
   "source": [
    "min_date = data[\"date\"].min()\n",
    "max_date = data[\"date\"].max()\n",
    "delta = max_date - min_date\n",
    "dates = pd.date_range(start=min_date, end=max_date, freq='D')\n",
    "def interpolate_mun(mun_data):\n",
    "    #series = mun_data[[\"last_available_confirmed_per_100k_inhabitants\",\"date\",\"region\"]]\n",
    "    series = mun_data[[field,\"date\",\"region\"]]\n",
    "    region_ = series.iloc[0].region\n",
    "    series = series.set_index(\"date\").reindex(dates).interpolate().ffill().fillna(0)\n",
    "    series[\"region\"] = region_\n",
    "    return series"
   ]
  },
  {
   "cell_type": "code",
   "execution_count": 10,
   "id": "b3839896",
   "metadata": {},
   "outputs": [],
   "source": [
    "#agg_data = data[[\"last_available_confirmed_per_100k_inhabitants\",\"city_ibge_code\",\"region\",\"date\"]].groupby(\"city_ibge_code\").apply(lambda x: interpolate_mun(x))\n",
    "agg_data = data[[field,\"city_ibge_code\",\"region\",\"date\"]].groupby(\"city_ibge_code\").apply(lambda x: interpolate_mun(x))"
   ]
  },
  {
   "cell_type": "code",
   "execution_count": 11,
   "id": "662c5301",
   "metadata": {},
   "outputs": [],
   "source": [
    "agg_data = agg_data.reset_index()"
   ]
  },
  {
   "cell_type": "code",
   "execution_count": 12,
   "id": "d89e5c3c",
   "metadata": {},
   "outputs": [],
   "source": [
    "agg_data.rename(columns={\"level_1\": \"date\"},inplace=True)"
   ]
  },
  {
   "cell_type": "code",
   "execution_count": 13,
   "id": "ee94c0a8",
   "metadata": {},
   "outputs": [],
   "source": [
    "agg_data = agg_data[[field,\"region\",\"date\"]].groupby(['region',\"date\"]).sum()"
   ]
  },
  {
   "cell_type": "code",
   "execution_count": 14,
   "id": "a14ef7e9",
   "metadata": {},
   "outputs": [],
   "source": [
    "grouped = agg_data.reset_index().groupby(\"region\")"
   ]
  },
  {
   "cell_type": "code",
   "execution_count": 15,
   "id": "a8912b94",
   "metadata": {},
   "outputs": [
    {
     "name": "stdout",
     "output_type": "stream",
     "text": [
      "0 Centro Oeste\n",
      "1 Nordeste\n",
      "2 Norte\n",
      "3 Sudeste\n",
      "4 Sul\n"
     ]
    }
   ],
   "source": [
    "X = np.zeros((len(grouped),delta.days + 1))\n",
    "for i,(group, data_) in enumerate(grouped):\n",
    "    #series = data_[[\"last_available_confirmed_per_100k_inhabitants\",\"date\"]]\n",
    "    series = data_[[field,\"date\"]]\n",
    "    print(i,group)\n",
    "    series = series.set_index(\"date\").reindex(dates).interpolate().ffill().fillna(0)\n",
    "    X[i,:] = series.values.reshape(len(series))"
   ]
  },
  {
   "cell_type": "code",
   "execution_count": 16,
   "id": "60ff4cfd",
   "metadata": {},
   "outputs": [
    {
     "data": {
      "text/plain": [
       "array(['Norte', 'Nordeste', 'Centro Oeste', 'Sudeste', 'Sul'],\n",
       "      dtype=object)"
      ]
     },
     "execution_count": 16,
     "metadata": {},
     "output_type": "execute_result"
    }
   ],
   "source": [
    "data.region.unique()"
   ]
  },
  {
   "cell_type": "code",
   "execution_count": 17,
   "id": "b9088383",
   "metadata": {},
   "outputs": [
    {
     "data": {
      "text/plain": [
       "(5, 591)"
      ]
     },
     "execution_count": 17,
     "metadata": {},
     "output_type": "execute_result"
    }
   ],
   "source": [
    "X.shape"
   ]
  },
  {
   "cell_type": "code",
   "execution_count": 18,
   "id": "decea99d",
   "metadata": {},
   "outputs": [],
   "source": [
    "l = [\"Centro Oeste\",\"Nordeste\",\"Norte\",\"Sudeste\",\"Sul\"]"
   ]
  },
  {
   "cell_type": "code",
   "execution_count": 19,
   "id": "cf10cf82",
   "metadata": {},
   "outputs": [
    {
     "data": {
      "image/png": "[encoded data removed]",
      "text/plain": [
       "<Figure size 432x288 with 1 Axes>"
      ]
     },
     "metadata": {
      "needs_background": "light"
     },
     "output_type": "display_data"
    }
   ],
   "source": [
    "for i in range(5):\n",
    "    plt.plot(dates,X[i,:],label=l[i])\n",
    "plt.legend()\n",
    "plt.ylabel(\"Total de casos agregados\")\n",
    "plt.xticks(rotation=45)\n",
    "plt.show()"
   ]
  },
  {
   "cell_type": "code",
   "execution_count": 20,
   "id": "a09bea55",
   "metadata": {},
   "outputs": [],
   "source": [
    "dim = int(np.floor(X.shape[1]/7))\n",
    "Y = np.zeros(( 5, dim))\n",
    "for t in range(dim):\n",
    "    for i in range(5):\n",
    "        if t < dim - 1:\n",
    "            Y[i,t] = np.sum(X[i,7*t:7*t+7])\n",
    "        else:\n",
    "            Y[i,t] = np.sum(X[i,7*t:])"
   ]
  },
  {
   "cell_type": "code",
   "execution_count": 21,
   "id": "2d106460",
   "metadata": {},
   "outputs": [
    {
     "data": {
      "text/plain": [
       "(5, 84)"
      ]
     },
     "execution_count": 21,
     "metadata": {},
     "output_type": "execute_result"
    }
   ],
   "source": [
    "Y.shape"
   ]
  },
  {
   "cell_type": "code",
   "execution_count": 22,
   "id": "19217518",
   "metadata": {},
   "outputs": [
    {
     "data": {
      "text/plain": [
       "(5, 591)"
      ]
     },
     "execution_count": 22,
     "metadata": {},
     "output_type": "execute_result"
    }
   ],
   "source": [
    "X.shape"
   ]
  },
  {
   "cell_type": "code",
   "execution_count": 23,
   "id": "bc4c5e23",
   "metadata": {},
   "outputs": [],
   "source": [
    "#Constroi matriz de Adjacencias:\n",
    "# 0 - Norte\n",
    "# 1 - Centro Oeste\n",
    "# 2 - Nordeste\n",
    "# 3 - Sudeste\n",
    "# 4 - Sul"
   ]
  },
  {
   "cell_type": "code",
   "execution_count": 24,
   "id": "45d6ac39",
   "metadata": {},
   "outputs": [],
   "source": [
    "A = np.zeros((5,5))"
   ]
  },
  {
   "cell_type": "code",
   "execution_count": 25,
   "id": "c319127d",
   "metadata": {},
   "outputs": [],
   "source": [
    "A[0,0] = A[0,1] = A[0,2] = A[1,0] = A[2,0] = 1\n",
    "A[1,1] = A[1,2] = A[1,3] = A[1,4] = A[2,1] = A[3,1] = A[4,1] = 1\n",
    "A[2,2] = A[2,3] = A[3,2] = 1\n",
    "A[3,3] = A[3,4] = A[4,3] = 1\n",
    "A[4,4] = 1"
   ]
  },
  {
   "cell_type": "code",
   "execution_count": 26,
   "id": "ac431659",
   "metadata": {},
   "outputs": [
    {
     "data": {
      "text/plain": [
       "True"
      ]
     },
     "execution_count": 26,
     "metadata": {},
     "output_type": "execute_result"
    }
   ],
   "source": [
    "np.allclose(A,A.T)"
   ]
  },
  {
   "cell_type": "code",
   "execution_count": 27,
   "id": "ebd8ed15",
   "metadata": {},
   "outputs": [],
   "source": [
    "n = 1\n",
    "k = 3"
   ]
  },
  {
   "cell_type": "code",
   "execution_count": 28,
   "id": "ca59189f",
   "metadata": {},
   "outputs": [],
   "source": [
    "# shape = Y.shape\n",
    "# # shape[1] -= n\n",
    "# Y_hat = cp.Variable(shape)\n",
    "# C = cp.Variable((shape[0],k))\n",
    "# constraints = []\n",
    "# for i in range(shape[0]):\n",
    "#     for t in range(shape[1]-n):\n",
    "#         terms = []\n",
    "#         for l in range(min(t,k)):\n",
    "#             for j in range(5):\n",
    "#                 terms.append(C[j,l]*A[i,j]*Y[j,t-l])\n",
    "#         constraints += [Y_hat[i,t+n] == cp.sum(terms)]"
   ]
  },
  {
   "cell_type": "code",
   "execution_count": 33,
   "id": "ba63d872",
   "metadata": {},
   "outputs": [],
   "source": [
    "shape_y = Y.shape\n",
    "shape_x = X.shape\n",
    "# shape[1] -= n\n",
    "Y_hat = cp.Variable(shape_y)\n",
    "X_hat = cp.Variable(shape_x)\n",
    "C = cp.Variable((shape_y[0],k))\n",
    "constraints = []\n",
    "for i in range(shape_x[0]):\n",
    "    for t in range(shape_x[1]-n):\n",
    "        terms = []\n",
    "        for l in range(min(t,k)):\n",
    "            for j in range(5):\n",
    "                terms.append(C[j,l]*X[j,t-l])\n",
    "        constraints += [X_hat[i,t+n] == cp.sum(terms)]\n",
    "    for t in range(dim):\n",
    "        if t < dim - 1:\n",
    "            constraints += [Y_hat[i,t] == cp.sum(X[i,7*t:7*t+7])]\n",
    "        else:\n",
    "            constraints += [Y_hat[i,t] == cp.sum(X[i,7*t:])]"
   ]
  },
  {
   "cell_type": "code",
   "execution_count": 34,
   "id": "cb6468c5",
   "metadata": {},
   "outputs": [
    {
     "name": "stdout",
     "output_type": "stream",
     "text": [
      "===============================================================================\n",
      "                                     CVXPY                                     \n",
      "                                     v1.2.1                                    \n",
      "===============================================================================\n",
      "(CVXPY) Jul 21 08:47:31 AM: Your problem has 3390 variables, 3370 constraints, and 0 parameters.\n",
      "(CVXPY) Jul 21 08:47:34 AM: It is compliant with the following grammars: DCP, DQCP\n",
      "(CVXPY) Jul 21 08:47:34 AM: (If you need to solve this problem multiple times, but with different data, consider using parameters.)\n",
      "(CVXPY) Jul 21 08:47:34 AM: CVXPY will first compile your problem; then, it will invoke a numerical solver to obtain a solution.\n",
      "-------------------------------------------------------------------------------\n",
      "                                  Compilation                                  \n",
      "-------------------------------------------------------------------------------\n",
      "(CVXPY) Jul 21 08:47:36 AM: Compiling problem (target solver=OSQP).\n",
      "(CVXPY) Jul 21 08:47:36 AM: Reduction chain: CvxAttr2Constr -> Qp2SymbolicQp -> QpMatrixStuffing -> OSQP\n",
      "(CVXPY) Jul 21 08:47:36 AM: Applying reduction CvxAttr2Constr\n",
      "(CVXPY) Jul 21 08:47:36 AM: Applying reduction Qp2SymbolicQp\n",
      "(CVXPY) Jul 21 08:47:39 AM: Applying reduction QpMatrixStuffing\n",
      "(CVXPY) Jul 21 08:47:48 AM: Applying reduction OSQP\n",
      "(CVXPY) Jul 21 08:47:48 AM: Finished problem compilation (took 1.428e+01 seconds).\n",
      "-------------------------------------------------------------------------------\n",
      "                                Numerical solver                               \n",
      "-------------------------------------------------------------------------------\n",
      "(CVXPY) Jul 21 08:47:48 AM: Invoking solver OSQP  to obtain a solution.\n",
      "-----------------------------------------------------------------\n",
      "           OSQP v0.6.2  -  Operator Splitting QP Solver\n",
      "              (c) Bartolomeo Stellato,  Goran Banjac\n",
      "        University of Oxford  -  Stanford University 2021\n",
      "-----------------------------------------------------------------\n",
      "problem:  variables n = 3820, constraints m = 3815\n",
      "          nnz(P) + nnz(A) = 48055\n",
      "settings: linear system solver = qdldl,\n",
      "          eps_abs = 1.0e-05, eps_rel = 1.0e-05,\n",
      "          eps_prim_inf = 1.0e-04, eps_dual_inf = 1.0e-04,\n",
      "          rho = 1.00e-01 (adaptive),\n",
      "          sigma = 1.00e-06, alpha = 1.60, max_iter = 100000\n",
      "          check_termination: on (interval 25),\n",
      "          scaling: on, scaled_termination: off\n",
      "          warm start: on, polish: on, time_limit: off\n",
      "\n",
      "iter   objective    pri res    dua res    rho        time\n",
      "   1  -1.2000e+04   8.28e+12   1.66e+17   1.00e-01   1.28e-02s\n",
      " 100   2.0140e+04   1.59e+01   3.23e-04   1.00e-06   5.62e-02s\n",
      "\n",
      "status:               solved\n",
      "solution polish:      unsuccessful\n",
      "number of iterations: 100\n",
      "optimal objective:    20140.2886\n",
      "run time:             5.75e-02s\n",
      "optimal rho estimate: 1.00e-06\n",
      "\n",
      "-------------------------------------------------------------------------------\n",
      "                                    Summary                                    \n",
      "-------------------------------------------------------------------------------\n",
      "(CVXPY) Jul 21 08:47:48 AM: Problem status: optimal\n",
      "(CVXPY) Jul 21 08:47:48 AM: Optimal value: 5.035e+03\n",
      "(CVXPY) Jul 21 08:47:48 AM: Compilation took 1.428e+01 seconds\n",
      "(CVXPY) Jul 21 08:47:48 AM: Solver (including time spent in interface) took 6.508e-02 seconds\n"
     ]
    },
    {
     "data": {
      "text/plain": [
       "5035.186071538672"
      ]
     },
     "execution_count": 34,
     "metadata": {},
     "output_type": "execute_result"
    }
   ],
   "source": [
    "lambda_ = 100\n",
    "obj = cp.Minimize(cp.sum_squares(Y_hat[:,n:] - Y[:,n:]) + lambda_*cp.norm1(C))\n",
    "p = cp.Problem(obj,constraints)\n",
    "p.solve(verbose=True,max_iter=100000)"
   ]
  },
  {
   "cell_type": "code",
   "execution_count": 31,
   "id": "30099eed",
   "metadata": {},
   "outputs": [
    {
     "data": {
      "text/plain": [
       "Timestamp('2020-02-25 00:00:00')"
      ]
     },
     "execution_count": 31,
     "metadata": {},
     "output_type": "execute_result"
    }
   ],
   "source": [
    "min_date"
   ]
  },
  {
   "cell_type": "code",
   "execution_count": 32,
   "id": "adcf1eda",
   "metadata": {},
   "outputs": [
    {
     "data": {
      "text/plain": [
       "Timestamp('2021-10-07 00:00:00')"
      ]
     },
     "execution_count": 32,
     "metadata": {},
     "output_type": "execute_result"
    }
   ],
   "source": [
    "max_date"
   ]
  }
 ],
 "metadata": {
  "kernelspec": {
   "display_name": "Python 3 (ipykernel)",
   "language": "python",
   "name": "python3"
  },
  "language_info": {
   "codemirror_mode": {
    "name": "ipython",
    "version": 3
   },
   "file_extension": ".py",
   "mimetype": "text/x-python",
   "name": "python",
   "nbconvert_exporter": "python",
   "pygments_lexer": "ipython3",
   "version": "3.9.7"
  }
 },
 "nbformat": 4,
 "nbformat_minor": 5
}
