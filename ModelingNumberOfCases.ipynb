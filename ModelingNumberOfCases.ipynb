{
 "cells": [
  {
   "cell_type": "code",
   "execution_count": 1,
   "id": "30d5e008",
   "metadata": {},
   "outputs": [],
   "source": [
    "import pandas as pd\n",
    "import numpy as np\n",
    "import matplotlib.pyplot as plt\n",
    "import cvxpy as cp\n",
    "import numpy as np"
   ]
  },
  {
   "cell_type": "code",
   "execution_count": 2,
   "id": "e371e01a",
   "metadata": {},
   "outputs": [],
   "source": [
    "data = pd.read_csv('caso_full.csv')"
   ]
  },
  {
   "cell_type": "code",
   "execution_count": 3,
   "id": "45f5ca31",
   "metadata": {},
   "outputs": [
    {
     "data": {
      "text/plain": [
       "Index(['city', 'city_ibge_code', 'date', 'epidemiological_week',\n",
       "       'estimated_population', 'estimated_population_2019', 'is_last',\n",
       "       'is_repeated', 'last_available_confirmed',\n",
       "       'last_available_confirmed_per_100k_inhabitants', 'last_available_date',\n",
       "       'last_available_death_rate', 'last_available_deaths', 'order_for_place',\n",
       "       'place_type', 'state', 'new_confirmed', 'new_deaths'],\n",
       "      dtype='object')"
      ]
     },
     "execution_count": 3,
     "metadata": {},
     "output_type": "execute_result"
    }
   ],
   "source": [
    "data.columns"
   ]
  },
  {
   "cell_type": "code",
   "execution_count": 4,
   "id": "7903a200",
   "metadata": {},
   "outputs": [],
   "source": [
    "mapping = {}\n",
    "mapping['AC'] = \"Norte\"\n",
    "mapping['AL'] = \"Nordeste\"\n",
    "mapping['AM'] = \"Norte\"\n",
    "mapping['AP'] = \"Norte\"\n",
    "mapping['BA'] = \"Nordeste\"\n",
    "mapping['CE'] = \"Nordeste\"\n",
    "mapping['DF'] = \"Centro Oeste\"\n",
    "mapping['ES'] = \"Sudeste\"\n",
    "mapping['GO'] = \"Centro Oeste\"\n",
    "mapping['MA'] = \"Nordeste\"\n",
    "mapping['MG'] = \"Sudeste\"\n",
    "mapping['MS'] = \"Centro Oeste\"\n",
    "mapping['MT'] = \"Centro Oeste\"\n",
    "mapping['PA'] = \"Norte\"\n",
    "mapping['PB'] = \"Nordeste\"\n",
    "mapping['PE'] = \"Nordeste\"\n",
    "mapping['PI'] = \"Nordeste\"\n",
    "mapping['PR'] = \"Sul\"\n",
    "mapping['RJ'] = \"Sudeste\"\n",
    "mapping['RN'] = \"Nordeste\"\n",
    "mapping['RO'] = \"Centro Oeste\"\n",
    "mapping['RR'] = \"Norte\"\n",
    "mapping['RS'] = \"Sul\"\n",
    "mapping['SC'] = \"Sul\"\n",
    "mapping['SE'] = \"Nordeste\"\n",
    "mapping['SP'] = \"Sudeste\"\n",
    "mapping['TO'] = \"Norte\""
   ]
  },
  {
   "cell_type": "code",
   "execution_count": 5,
   "id": "0af5f188",
   "metadata": {},
   "outputs": [],
   "source": [
    "# field = \"last_available_confirmed_per_100k_inhabitants\"\n",
    "field = \"total_casos\""
   ]
  },
  {
   "cell_type": "code",
   "execution_count": 6,
   "id": "cf2582db",
   "metadata": {},
   "outputs": [],
   "source": [
    "data = data[(data['city'].isnull() == False) & (data['is_repeated'] == False)]\n",
    "data[\"total_casos\"] = data[\"last_available_confirmed_per_100k_inhabitants\"] * data[\"estimated_population_2019\"]\n",
    "columns_to_drop = ['city','place_type','last_available_confirmed',\n",
    "                   'last_available_date','estimated_population',\n",
    "                   'is_last','is_repeated']\n",
    "data.drop(columns=columns_to_drop,inplace=True)\n",
    "data['date'] = pd.to_datetime(data['date'],format='%Y-%m-%d')\n",
    "data['region'] = data.apply (lambda row: mapping[row[\"state\"]], axis=1)"
   ]
  },
  {
   "cell_type": "code",
   "execution_count": 7,
   "id": "9cdf33ba",
   "metadata": {
    "scrolled": true
   },
   "outputs": [
    {
     "data": {
      "text/plain": [
       "27"
      ]
     },
     "execution_count": 7,
     "metadata": {},
     "output_type": "execute_result"
    }
   ],
   "source": [
    "data[\"state\"].nunique()"
   ]
  },
  {
   "cell_type": "code",
   "execution_count": 8,
   "id": "c9e10812",
   "metadata": {},
   "outputs": [
    {
     "data": {
      "text/plain": [
       "array(['Norte', 'Nordeste', 'Centro Oeste', 'Sudeste', 'Sul'],\n",
       "      dtype=object)"
      ]
     },
     "execution_count": 8,
     "metadata": {},
     "output_type": "execute_result"
    }
   ],
   "source": [
    "data.region.unique()"
   ]
  },
  {
   "cell_type": "code",
   "execution_count": 9,
   "id": "5fa903dc",
   "metadata": {},
   "outputs": [],
   "source": [
    "min_date = data[\"date\"].min()\n",
    "max_date = data[\"date\"].max()\n",
    "delta = max_date - min_date\n",
    "dates = pd.date_range(start=min_date, end=max_date, freq='D')\n",
    "def interpolate_mun(mun_data):\n",
    "    #series = mun_data[[\"last_available_confirmed_per_100k_inhabitants\",\"date\",\"region\"]]\n",
    "    series = mun_data[[field,\"date\",\"region\"]]\n",
    "    region_ = series.iloc[0].region\n",
    "    series = series.set_index(\"date\").reindex(dates).interpolate().ffill().fillna(0)\n",
    "    series[\"region\"] = region_\n",
    "    return series"
   ]
  },
  {
   "cell_type": "code",
   "execution_count": 10,
   "id": "b3839896",
   "metadata": {},
   "outputs": [],
   "source": [
    "#agg_data = data[[\"last_available_confirmed_per_100k_inhabitants\",\"city_ibge_code\",\"region\",\"date\"]].groupby(\"city_ibge_code\").apply(lambda x: interpolate_mun(x))\n",
    "agg_data = data[[field,\"city_ibge_code\",\"region\",\"date\"]].groupby(\"city_ibge_code\").apply(lambda x: interpolate_mun(x))"
   ]
  },
  {
   "cell_type": "code",
   "execution_count": 11,
   "id": "662c5301",
   "metadata": {},
   "outputs": [],
   "source": [
    "agg_data = agg_data.reset_index()"
   ]
  },
  {
   "cell_type": "code",
   "execution_count": 12,
   "id": "d89e5c3c",
   "metadata": {},
   "outputs": [],
   "source": [
    "agg_data.rename(columns={\"level_1\": \"date\"},inplace=True)"
   ]
  },
  {
   "cell_type": "code",
   "execution_count": 13,
   "id": "ee94c0a8",
   "metadata": {},
   "outputs": [],
   "source": [
    "agg_data = agg_data[[field,\"region\",\"date\"]].groupby(['region',\"date\"]).sum()"
   ]
  },
  {
   "cell_type": "code",
   "execution_count": 14,
   "id": "a14ef7e9",
   "metadata": {},
   "outputs": [],
   "source": [
    "grouped = agg_data.reset_index().groupby(\"region\")"
   ]
  },
  {
   "cell_type": "code",
   "execution_count": 15,
   "id": "a8912b94",
   "metadata": {},
   "outputs": [
    {
     "name": "stdout",
     "output_type": "stream",
     "text": [
      "0 Centro Oeste\n",
      "1 Nordeste\n",
      "2 Norte\n",
      "3 Sudeste\n",
      "4 Sul\n"
     ]
    }
   ],
   "source": [
    "X = np.zeros((len(grouped),delta.days + 1))\n",
    "for i,(group, data_) in enumerate(grouped):\n",
    "    #series = data_[[\"last_available_confirmed_per_100k_inhabitants\",\"date\"]]\n",
    "    series = data_[[field,\"date\"]]\n",
    "    print(i,group)\n",
    "    series = series.set_index(\"date\").reindex(dates).interpolate().ffill().fillna(0)\n",
    "    X[i,:] = series.values.reshape(len(series))"
   ]
  },
  {
   "cell_type": "code",
   "execution_count": 16,
   "id": "60ff4cfd",
   "metadata": {},
   "outputs": [
    {
     "data": {
      "text/plain": [
       "array(['Norte', 'Nordeste', 'Centro Oeste', 'Sudeste', 'Sul'],\n",
       "      dtype=object)"
      ]
     },
     "execution_count": 16,
     "metadata": {},
     "output_type": "execute_result"
    }
   ],
   "source": [
    "data.region.unique()"
   ]
  },
  {
   "cell_type": "code",
   "execution_count": 17,
   "id": "b9088383",
   "metadata": {},
   "outputs": [
    {
     "data": {
      "text/plain": [
       "(5, 591)"
      ]
     },
     "execution_count": 17,
     "metadata": {},
     "output_type": "execute_result"
    }
   ],
   "source": [
    "X.shape"
   ]
  },
  {
   "cell_type": "code",
   "execution_count": 18,
   "id": "decea99d",
   "metadata": {},
   "outputs": [],
   "source": [
    "l = [\"Centro Oeste\",\"Nordeste\",\"Norte\",\"Sudeste\",\"Sul\"]"
   ]
  },
  {
   "cell_type": "code",
   "execution_count": 19,
   "id": "cf10cf82",
   "metadata": {},
   "outputs": [
    {
     "data": {
      "image/png": "[encoded data removed]",
      "text/plain": [
       "<Figure size 432x288 with 1 Axes>"
      ]
     },
     "metadata": {
      "needs_background": "light"
     },
     "output_type": "display_data"
    }
   ],
   "source": [
    "for i in range(5):\n",
    "    plt.plot(dates,X[i,:],label=l[i])\n",
    "plt.legend()\n",
    "plt.ylabel(\"Total de casos agregados\")\n",
    "plt.xticks(rotation=45)\n",
    "plt.show()"
   ]
  },
  {
   "cell_type": "code",
   "execution_count": 20,
   "id": "a09bea55",
   "metadata": {},
   "outputs": [],
   "source": [
    "dim = int(np.floor(X.shape[1]/7))\n",
    "Y = np.zeros(( 5, dim))\n",
    "for t in range(dim):\n",
    "    for i in range(5):\n",
    "        if t < dim - 1:\n",
    "            Y[i,t] = np.sum(X[i,7*t:7*t+7])\n",
    "        else:\n",
    "            Y[i,t] = np.sum(X[i,7*t:])"
   ]
  },
  {
   "cell_type": "code",
   "execution_count": 21,
   "id": "2d106460",
   "metadata": {},
   "outputs": [
    {
     "data": {
      "text/plain": [
       "(5, 84)"
      ]
     },
     "execution_count": 21,
     "metadata": {},
     "output_type": "execute_result"
    }
   ],
   "source": [
    "Y.shape"
   ]
  },
  {
   "cell_type": "code",
   "execution_count": 22,
   "id": "9266114a",
   "metadata": {},
   "outputs": [
    {
     "data": {
      "text/plain": [
       "(5, 591)"
      ]
     },
     "execution_count": 22,
     "metadata": {},
     "output_type": "execute_result"
    }
   ],
   "source": [
    "X.shape"
   ]
  },
  {
   "cell_type": "code",
   "execution_count": 23,
   "id": "bc4c5e23",
   "metadata": {},
   "outputs": [],
   "source": [
    "#Constroi matriz de Adjacencias:\n",
    "# 0 - Norte\n",
    "# 1 - Centro Oeste\n",
    "# 2 - Nordeste\n",
    "# 3 - Sudeste\n",
    "# 4 - Sul"
   ]
  },
  {
   "cell_type": "code",
   "execution_count": 24,
   "id": "45d6ac39",
   "metadata": {},
   "outputs": [],
   "source": [
    "A = np.zeros((5,5))"
   ]
  },
  {
   "cell_type": "code",
   "execution_count": 25,
   "id": "c319127d",
   "metadata": {},
   "outputs": [],
   "source": [
    "A[0,0] = A[0,1] = A[0,2] = A[1,0] = A[2,0] = 1\n",
    "A[1,1] = A[1,2] = A[1,3] = A[1,4] = A[2,1] = A[3,1] = A[4,1] = 1\n",
    "A[2,2] = A[2,3] = A[3,2] = 1\n",
    "A[3,3] = A[3,4] = A[4,3] = 1\n",
    "A[4,4] = 1"
   ]
  },
  {
   "cell_type": "code",
   "execution_count": 26,
   "id": "ac431659",
   "metadata": {},
   "outputs": [
    {
     "data": {
      "text/plain": [
       "True"
      ]
     },
     "execution_count": 26,
     "metadata": {},
     "output_type": "execute_result"
    }
   ],
   "source": [
    "np.allclose(A,A.T)"
   ]
  },
  {
   "cell_type": "code",
   "execution_count": 27,
   "id": "ebd8ed15",
   "metadata": {},
   "outputs": [],
   "source": [
    "n = 1\n",
    "k = 3"
   ]
  },
  {
   "cell_type": "code",
   "execution_count": 28,
   "id": "ca59189f",
   "metadata": {},
   "outputs": [],
   "source": [
    "# shape = Y.shape\n",
    "# # shape[1] -= n\n",
    "# Y_hat = cp.Variable(shape)\n",
    "# C = cp.Variable((shape[0],k))\n",
    "# constraints = []\n",
    "# for i in range(shape[0]):\n",
    "#     for t in range(shape[1]-n):\n",
    "#         terms = []\n",
    "#         for l in range(min(t,k)):\n",
    "#             for j in range(5):\n",
    "#                 terms.append(C[j,l]*A[i,j]*Y[j,t-l])\n",
    "#         constraints += [Y_hat[i,t+n] == cp.sum(terms)]"
   ]
  },
  {
   "cell_type": "code",
   "execution_count": 35,
   "id": "28ec782b",
   "metadata": {},
   "outputs": [],
   "source": [
    "shape_y = Y.shape\n",
    "shape_x = X.shape\n",
    "# shape[1] -= n\n",
    "Y_hat = cp.Variable(shape_y)\n",
    "X_hat = cp.Variable(shape_x)\n",
    "C = cp.Variable((shape_y[0],k))\n",
    "constraints = []\n",
    "for i in range(shape_x[0]):\n",
    "    for t in range(shape_x[1]-n):\n",
    "        terms = []\n",
    "        for l in range(min(t,k)):\n",
    "            for j in range(5):\n",
    "                terms.append(C[j,l]*X[j,t-l])\n",
    "        constraints += [X_hat[i,t+n] == cp.sum(terms)]\n",
    "    for t in range(dim):\n",
    "        if t < dim - 1:\n",
    "            constraints += [Y_hat[i,t] == cp.sum(X_hat[i,7*t:7*t+7])]\n",
    "        else:\n",
    "            constraints += [Y_hat[i,t] == cp.sum(X_hat[i,7*t:])]"
   ]
  },
  {
   "cell_type": "code",
   "execution_count": 36,
   "id": "cb6468c5",
   "metadata": {},
   "outputs": [
    {
     "name": "stdout",
     "output_type": "stream",
     "text": [
      "===============================================================================\n",
      "                                     CVXPY                                     \n",
      "                                     v1.2.1                                    \n",
      "===============================================================================\n",
      "(CVXPY) Jul 21 08:53:09 AM: Your problem has 3390 variables, 3370 constraints, and 0 parameters.\n",
      "(CVXPY) Jul 21 08:53:11 AM: It is compliant with the following grammars: DCP, DQCP\n",
      "(CVXPY) Jul 21 08:53:11 AM: (If you need to solve this problem multiple times, but with different data, consider using parameters.)\n",
      "(CVXPY) Jul 21 08:53:11 AM: CVXPY will first compile your problem; then, it will invoke a numerical solver to obtain a solution.\n",
      "-------------------------------------------------------------------------------\n",
      "                                  Compilation                                  \n",
      "-------------------------------------------------------------------------------\n",
      "(CVXPY) Jul 21 08:53:14 AM: Compiling problem (target solver=OSQP).\n",
      "(CVXPY) Jul 21 08:53:14 AM: Reduction chain: CvxAttr2Constr -> Qp2SymbolicQp -> QpMatrixStuffing -> OSQP\n",
      "(CVXPY) Jul 21 08:53:14 AM: Applying reduction CvxAttr2Constr\n",
      "(CVXPY) Jul 21 08:53:14 AM: Applying reduction Qp2SymbolicQp\n",
      "(CVXPY) Jul 21 08:53:16 AM: Applying reduction QpMatrixStuffing\n",
      "(CVXPY) Jul 21 08:53:25 AM: Applying reduction OSQP\n",
      "(CVXPY) Jul 21 08:53:25 AM: Finished problem compilation (took 1.332e+01 seconds).\n",
      "-------------------------------------------------------------------------------\n",
      "                                Numerical solver                               \n",
      "-------------------------------------------------------------------------------\n",
      "(CVXPY) Jul 21 08:53:25 AM: Invoking solver OSQP  to obtain a solution.\n",
      "-----------------------------------------------------------------\n",
      "           OSQP v0.6.2  -  Operator Splitting QP Solver\n",
      "              (c) Bartolomeo Stellato,  Goran Banjac\n",
      "        University of Oxford  -  Stanford University 2021\n",
      "-----------------------------------------------------------------\n",
      "problem:  variables n = 3820, constraints m = 3815\n",
      "          nnz(P) + nnz(A) = 51010\n",
      "settings: linear system solver = qdldl,\n",
      "          eps_abs = 1.0e-05, eps_rel = 1.0e-05,\n",
      "          eps_prim_inf = 1.0e-04, eps_dual_inf = 1.0e-04,\n",
      "          rho = 1.00e-01 (adaptive),\n",
      "          sigma = 1.00e-06, alpha = 1.60, max_iter = 100000\n",
      "          check_termination: on (interval 25),\n",
      "          scaling: on, scaled_termination: off\n",
      "          warm start: on, polish: on, time_limit: off\n",
      "\n",
      "iter   objective    pri res    dua res    rho        time\n",
      "   1  -1.2000e+04   8.28e+12   8.28e+16   1.00e-01   1.60e-02s\n",
      " 200   4.3030e+17   4.04e+11   2.10e+06   1.00e-06   1.01e-01s\n",
      " 400   4.3035e+17   4.08e+11   1.97e+06   1.00e-06   1.85e-01s\n",
      " 600   4.3039e+17   4.23e+11   1.58e+06   1.00e-06   2.71e-01s\n",
      " 800   4.3043e+17   4.30e+11   9.52e+05   1.00e-06   3.45e-01s\n",
      "1000   4.3048e+17   4.58e+11   6.97e+05   1.00e-06   4.29e-01s\n",
      "1200   4.3053e+17   5.11e+11   6.50e+05   1.00e-06   5.12e-01s\n",
      "1400   4.3059e+17   5.64e+11   5.93e+05   1.00e-06   5.86e-01s\n",
      "1600   4.3065e+17   6.18e+11   5.60e+05   1.00e-06   6.69e-01s\n",
      "1800   4.3072e+17   6.71e+11   4.84e+05   1.00e-06   7.72e-01s\n",
      "2000   4.3081e+17   7.25e+11   7.49e+05   1.00e-06   8.77e-01s\n",
      "2200   4.3090e+17   7.77e+11   1.17e+06   1.00e-06   9.70e-01s\n",
      "2400   4.3099e+17   8.29e+11   1.41e+06   1.00e-06   1.05e+00s\n",
      "2600   4.3109e+17   8.79e+11   1.41e+06   1.00e-06   1.13e+00s\n",
      "2800   4.3118e+17   9.29e+11   1.30e+06   1.00e-06   1.21e+00s\n",
      "3000   4.3127e+17   9.78e+11   1.46e+06   1.00e-06   1.29e+00s\n",
      "3200   4.3136e+17   1.03e+12   1.53e+06   1.00e-06   1.38e+00s\n",
      "3400   4.3145e+17   1.08e+12   1.44e+06   1.00e-06   1.46e+00s\n",
      "3600   4.3152e+17   1.13e+12   1.61e+06   1.00e-06   1.56e+00s\n",
      "3800   4.3158e+17   1.17e+12   1.87e+06   1.00e-06   1.66e+00s\n",
      "4000   4.3163e+17   1.22e+12   1.72e+06   1.00e-06   1.74e+00s\n",
      "4200   4.3167e+17   1.27e+12   1.43e+06   1.00e-06   1.82e+00s\n",
      "4400   4.3170e+17   1.32e+12   8.52e+05   1.00e-06   1.93e+00s\n",
      "4600   4.3173e+17   1.37e+12   6.93e+05   1.00e-06   2.02e+00s\n",
      "4800   4.3176e+17   1.42e+12   7.40e+05   1.00e-06   2.11e+00s\n",
      "5000   4.3180e+17   1.46e+12   8.22e+05   1.00e-06   2.22e+00s\n",
      "5200   4.3184e+17   1.51e+12   8.31e+05   1.00e-06   2.32e+00s\n",
      "5400   4.3187e+17   1.55e+12   7.81e+05   1.00e-06   2.41e+00s\n",
      "5600   4.3189e+17   1.59e+12   5.58e+05   1.00e-06   2.49e+00s\n",
      "5800   4.3191e+17   1.63e+12   3.61e+05   1.00e-06   2.58e+00s\n",
      "6000   4.3194e+17   1.68e+12   1.03e+06   1.00e-06   2.65e+00s\n",
      "6200   4.3197e+17   1.72e+12   1.60e+06   1.00e-06   2.74e+00s\n",
      "6400   4.3203e+17   1.77e+12   1.82e+06   1.00e-06   2.84e+00s\n",
      "6600   4.3210e+17   1.82e+12   1.80e+06   1.00e-06   2.91e+00s\n",
      "6800   4.3220e+17   1.86e+12   1.37e+06   1.00e-06   3.00e+00s\n",
      "7000   4.3231e+17   1.91e+12   1.27e+06   1.00e-06   3.09e+00s\n",
      "7200   4.3244e+17   1.95e+12   1.06e+06   1.00e-06   3.16e+00s\n",
      "7400   4.3260e+17   1.98e+12   8.14e+05   1.00e-06   3.25e+00s\n",
      "7600   4.3277e+17   2.02e+12   9.93e+05   1.00e-06   3.34e+00s\n",
      "7800   4.3294e+17   2.05e+12   1.14e+06   1.00e-06   3.43e+00s\n",
      "8000   4.3311e+17   2.09e+12   1.31e+06   1.00e-06   3.51e+00s\n",
      "8200   4.3328e+17   2.12e+12   1.07e+06   1.00e-06   3.60e+00s\n",
      "8400   4.3342e+17   2.15e+12   7.15e+05   1.00e-06   3.67e+00s\n",
      "8600   4.3355e+17   2.19e+12   8.05e+05   1.00e-06   3.75e+00s\n",
      "8800   4.3366e+17   2.23e+12   1.00e+06   1.00e-06   3.83e+00s\n",
      "9000   4.3376e+17   2.26e+12   9.59e+05   1.00e-06   3.91e+00s\n",
      "9200   4.3382e+17   2.30e+12   9.55e+05   1.00e-06   3.99e+00s\n",
      "9400   4.3386e+17   2.34e+12   1.02e+06   1.00e-06   4.07e+00s\n",
      "9600   4.3389e+17   2.37e+12   6.94e+05   1.00e-06   4.15e+00s\n",
      "9800   4.3389e+17   2.40e+12   5.00e+05   1.00e-06   4.23e+00s\n",
      "10000   4.3388e+17   2.43e+12   6.53e+05   1.00e-06   4.31e+00s\n",
      "10200   4.3388e+17   2.45e+12   1.20e+06   1.00e-06   4.38e+00s\n",
      "10400   4.3387e+17   2.47e+12   1.72e+06   1.00e-06   4.47e+00s\n",
      "10600   4.3385e+17   2.50e+12   1.74e+06   1.00e-06   4.55e+00s\n",
      "10800   4.3382e+17   2.52e+12   1.57e+06   1.00e-06   4.63e+00s\n",
      "11000   4.3377e+17   2.54e+12   1.22e+06   1.00e-06   4.71e+00s\n",
      "11200   4.3371e+17   2.57e+12   6.51e+05   1.00e-06   4.80e+00s\n",
      "11400   4.3363e+17   2.59e+12   4.82e+05   1.00e-06   4.87e+00s\n",
      "11600   4.3355e+17   2.62e+12   4.92e+05   1.00e-06   4.95e+00s\n",
      "11800   4.3347e+17   2.64e+12   5.74e+05   1.00e-06   5.03e+00s\n",
      "12000   4.3341e+17   2.67e+12   7.04e+05   1.00e-06   5.10e+00s\n",
      "12200   4.3336e+17   2.69e+12   8.73e+05   1.00e-06   5.18e+00s\n",
      "12400   4.3332e+17   2.71e+12   6.33e+05   1.00e-06   5.27e+00s\n",
      "12600   4.3329e+17   2.73e+12   6.44e+05   1.00e-06   5.34e+00s\n",
      "12800   4.3327e+17   2.75e+12   6.03e+05   1.00e-06   5.43e+00s\n",
      "13000   4.3326e+17   2.76e+12   1.38e+06   1.00e-06   5.51e+00s\n",
      "13200   4.3326e+17   2.78e+12   1.80e+06   1.00e-06   5.59e+00s\n",
      "13400   4.3326e+17   2.79e+12   1.79e+06   1.00e-06   5.67e+00s\n",
      "13600   4.3327e+17   2.80e+12   1.29e+06   1.00e-06   5.75e+00s\n",
      "13800   4.3328e+17   2.81e+12   7.64e+05   1.00e-06   5.83e+00s\n",
      "14000   4.3330e+17   2.83e+12   5.84e+05   1.00e-06   5.91e+00s\n",
      "14200   4.3332e+17   2.84e+12   1.01e+06   1.00e-06   5.98e+00s\n",
      "14400   4.3335e+17   2.85e+12   1.55e+06   1.00e-06   6.06e+00s\n",
      "14600   4.3338e+17   2.85e+12   1.64e+06   1.00e-06   6.13e+00s\n",
      "14800   4.3342e+17   2.86e+12   1.41e+06   1.00e-06   6.21e+00s\n",
      "15000   4.3345e+17   2.87e+12   1.40e+06   1.00e-06   6.28e+00s\n",
      "15200   4.3349e+17   2.87e+12   1.05e+06   1.00e-06   6.35e+00s\n",
      "15400   4.3353e+17   2.87e+12   8.09e+05   1.00e-06   6.43e+00s\n",
      "15600   4.3356e+17   2.87e+12   7.10e+05   1.00e-06   6.51e+00s\n",
      "15800   4.3359e+17   2.87e+12   7.13e+05   1.00e-06   6.59e+00s\n",
      "16000   4.3363e+17   2.87e+12   6.28e+05   1.00e-06   6.67e+00s\n",
      "16200   4.3365e+17   2.86e+12   5.67e+05   1.00e-06   6.75e+00s\n",
      "16400   4.3367e+17   2.85e+12   7.53e+05   1.00e-06   6.83e+00s\n",
      "16600   4.3369e+17   2.84e+12   1.41e+06   1.00e-06   6.91e+00s\n",
      "16800   4.3371e+17   2.83e+12   1.74e+06   1.00e-06   6.98e+00s\n",
      "17000   4.3373e+17   2.81e+12   2.24e+06   1.00e-06   7.06e+00s\n",
      "17200   4.3377e+17   2.80e+12   2.52e+06   1.00e-06   7.14e+00s\n",
      "17400   4.3381e+17   2.79e+12   2.23e+06   1.00e-06   7.22e+00s\n"
     ]
    },
    {
     "name": "stdout",
     "output_type": "stream",
     "text": [
      "17600   4.3386e+17   2.78e+12   1.44e+06   1.00e-06   7.30e+00s\n",
      "17800   4.3392e+17   2.77e+12   7.48e+05   1.00e-06   7.39e+00s\n",
      "18000   4.3398e+17   2.75e+12   3.40e+05   1.00e-06   7.47e+00s\n",
      "18200   4.3405e+17   2.74e+12   3.55e+05   1.00e-06   7.55e+00s\n",
      "18400   4.3412e+17   2.72e+12   5.77e+05   1.00e-06   7.64e+00s\n",
      "18600   4.3419e+17   2.70e+12   7.04e+05   1.00e-06   7.71e+00s\n",
      "18800   4.3427e+17   2.67e+12   4.22e+05   1.00e-06   7.79e+00s\n",
      "19000   4.3434e+17   2.65e+12   3.43e+05   1.00e-06   7.88e+00s\n",
      "19200   4.3440e+17   2.63e+12   7.65e+05   1.00e-06   7.95e+00s\n",
      "19400   4.3447e+17   2.60e+12   1.23e+06   1.00e-06   8.02e+00s\n",
      "19600   4.3453e+17   2.58e+12   1.65e+06   1.00e-06   8.10e+00s\n",
      "19800   4.3459e+17   2.56e+12   1.81e+06   1.00e-06   8.18e+00s\n",
      "20000   4.3464e+17   2.53e+12   1.79e+06   1.00e-06   8.28e+00s\n",
      "20200   4.3469e+17   2.51e+12   1.57e+06   1.00e-06   8.38e+00s\n",
      "20400   4.3473e+17   2.49e+12   1.25e+06   1.00e-06   8.46e+00s\n",
      "20600   4.3475e+17   2.46e+12   7.74e+05   1.00e-06   8.56e+00s\n",
      "20800   4.3477e+17   2.43e+12   9.96e+05   1.00e-06   8.65e+00s\n",
      "21000   4.3479e+17   2.40e+12   1.03e+06   1.00e-06   8.75e+00s\n",
      "21200   4.3480e+17   2.36e+12   1.04e+06   1.00e-06   8.85e+00s\n",
      "21400   4.3483e+17   2.33e+12   6.99e+05   1.00e-06   8.93e+00s\n",
      "21600   4.3485e+17   2.29e+12   2.68e+05   1.00e-06   9.01e+00s\n",
      "21800   4.3488e+17   2.26e+12   6.34e+05   1.00e-06   9.08e+00s\n",
      "22000   4.3491e+17   2.24e+12   9.38e+05   1.00e-06   9.16e+00s\n",
      "22200   4.3494e+17   2.24e+12   1.26e+06   1.00e-06   9.24e+00s\n",
      "22400   4.3498e+17   2.24e+12   1.49e+06   1.00e-06   9.32e+00s\n",
      "22600   4.3501e+17   2.24e+12   1.30e+06   1.00e-06   9.41e+00s\n",
      "22800   4.3506e+17   2.23e+12   9.99e+05   1.00e-06   9.48e+00s\n",
      "23000   4.3510e+17   2.23e+12   9.07e+05   1.00e-06   9.57e+00s\n",
      "23200   4.3515e+17   2.22e+12   1.33e+06   1.00e-06   9.65e+00s\n",
      "23400   4.3521e+17   2.21e+12   1.73e+06   1.00e-06   9.72e+00s\n",
      "23600   4.3527e+17   2.20e+12   1.87e+06   1.00e-06   9.81e+00s\n",
      "23800   4.3532e+17   2.19e+12   1.69e+06   1.00e-06   9.89e+00s\n",
      "24000   4.3538e+17   2.18e+12   1.35e+06   1.00e-06   9.97e+00s\n",
      "24200   4.3544e+17   2.17e+12   1.01e+06   1.00e-06   1.01e+01s\n",
      "24400   4.3550e+17   2.16e+12   6.89e+05   1.00e-06   1.01e+01s\n",
      "24600   4.3555e+17   2.16e+12   5.24e+05   1.00e-06   1.02e+01s\n",
      "24800   4.3559e+17   2.15e+12   7.22e+05   1.00e-06   1.03e+01s\n",
      "25000   4.3563e+17   2.15e+12   8.31e+05   1.00e-06   1.04e+01s\n",
      "25200   4.3566e+17   2.14e+12   6.32e+05   1.00e-06   1.04e+01s\n",
      "25400   4.3569e+17   2.13e+12   6.39e+05   1.00e-06   1.05e+01s\n",
      "25600   4.3571e+17   2.12e+12   6.83e+05   1.00e-06   1.06e+01s\n",
      "25800   4.3573e+17   2.12e+12   1.63e+06   1.00e-06   1.07e+01s\n",
      "26000   4.3576e+17   2.11e+12   2.09e+06   1.00e-06   1.08e+01s\n",
      "26200   4.3579e+17   2.10e+12   2.26e+06   1.00e-06   1.09e+01s\n",
      "26400   4.3582e+17   2.09e+12   2.26e+06   1.00e-06   1.09e+01s\n",
      "26600   4.3584e+17   2.09e+12   2.04e+06   1.00e-06   1.10e+01s\n",
      "26800   4.3587e+17   2.08e+12   1.61e+06   1.00e-06   1.11e+01s\n",
      "27000   4.3590e+17   2.07e+12   1.24e+06   1.00e-06   1.12e+01s\n",
      "27200   4.3592e+17   2.07e+12   1.63e+06   1.00e-06   1.13e+01s\n",
      "27400   4.3595e+17   2.06e+12   1.58e+06   1.00e-06   1.13e+01s\n",
      "27600   4.3598e+17   2.05e+12   1.58e+06   1.00e-06   1.14e+01s\n",
      "27800   4.3601e+17   2.04e+12   1.28e+06   1.00e-06   1.15e+01s\n",
      "28000   4.3603e+17   2.03e+12   9.55e+05   1.00e-06   1.16e+01s\n",
      "28200   4.3606e+17   2.01e+12   6.21e+05   1.00e-06   1.17e+01s\n",
      "28400   4.3609e+17   2.00e+12   4.88e+05   1.00e-06   1.17e+01s\n",
      "28600   4.3612e+17   1.98e+12   8.16e+05   1.00e-06   1.18e+01s\n",
      "28800   4.3616e+17   1.97e+12   1.33e+06   1.00e-06   1.19e+01s\n",
      "29000   4.3620e+17   1.96e+12   1.40e+06   1.00e-06   1.20e+01s\n",
      "29200   4.3625e+17   1.94e+12   9.49e+05   1.00e-06   1.21e+01s\n",
      "29400   4.3629e+17   1.92e+12   4.38e+05   1.00e-06   1.21e+01s\n",
      "29600   4.3634e+17   1.90e+12   6.34e+05   1.00e-06   1.22e+01s\n",
      "29800   4.3639e+17   1.88e+12   9.36e+05   1.00e-06   1.23e+01s\n",
      "30000   4.3643e+17   1.86e+12   1.35e+06   1.00e-06   1.24e+01s\n",
      "30200   4.3648e+17   1.83e+12   1.54e+06   1.00e-06   1.24e+01s\n",
      "30400   4.3652e+17   1.81e+12   1.41e+06   1.00e-06   1.25e+01s\n",
      "30600   4.3656e+17   1.84e+12   1.17e+06   1.00e-06   1.26e+01s\n",
      "30800   4.3660e+17   1.86e+12   5.54e+05   1.00e-06   1.28e+01s\n",
      "31000   4.3664e+17   1.88e+12   4.16e+05   1.00e-06   1.29e+01s\n",
      "31200   4.3668e+17   1.90e+12   1.03e+06   1.00e-06   1.29e+01s\n",
      "31400   4.3673e+17   1.92e+12   1.45e+06   1.00e-06   1.30e+01s\n",
      "31600   4.3679e+17   1.93e+12   1.80e+06   1.00e-06   1.31e+01s\n",
      "31800   4.3685e+17   1.94e+12   1.90e+06   1.00e-06   1.32e+01s\n",
      "32000   4.3691e+17   1.95e+12   1.41e+06   1.00e-06   1.33e+01s\n",
      "32200   4.3697e+17   1.96e+12   7.68e+05   1.00e-06   1.33e+01s\n",
      "32400   4.3703e+17   1.98e+12   4.46e+05   1.00e-06   1.34e+01s\n",
      "32600   4.3709e+17   1.99e+12   7.04e+05   1.00e-06   1.35e+01s\n",
      "32800   4.3714e+17   2.01e+12   1.32e+06   1.00e-06   1.36e+01s\n",
      "33000   4.3719e+17   2.02e+12   1.48e+06   1.00e-06   1.36e+01s\n",
      "33200   4.3725e+17   2.04e+12   1.10e+06   1.00e-06   1.37e+01s\n",
      "33400   4.3730e+17   2.05e+12   7.39e+05   1.00e-06   1.38e+01s\n",
      "33600   4.3735e+17   2.06e+12   6.00e+05   1.00e-06   1.39e+01s\n",
      "33800   4.3740e+17   2.06e+12   2.69e+05   1.00e-06   1.40e+01s\n",
      "34000   4.3744e+17   2.07e+12   3.30e+05   1.00e-06   1.40e+01s\n",
      "34200   4.3748e+17   2.07e+12   5.44e+05   1.00e-06   1.41e+01s\n",
      "34400   4.3751e+17   2.07e+12   6.33e+05   1.00e-06   1.42e+01s\n",
      "34600   4.3755e+17   2.06e+12   6.50e+05   1.00e-06   1.43e+01s\n",
      "34800   4.3758e+17   2.06e+12   5.41e+05   1.00e-06   1.43e+01s\n",
      "35000   4.3761e+17   2.06e+12   6.40e+05   1.00e-06   1.44e+01s\n",
      "35200   4.3764e+17   2.05e+12   1.22e+06   1.00e-06   1.45e+01s\n",
      "35400   4.3766e+17   2.05e+12   1.49e+06   1.00e-06   1.46e+01s\n",
      "35600   4.3768e+17   2.05e+12   1.80e+06   1.00e-06   1.47e+01s\n",
      "35800   4.3770e+17   2.04e+12   1.82e+06   1.00e-06   1.47e+01s\n",
      "36000   4.3772e+17   2.04e+12   1.58e+06   1.00e-06   1.48e+01s\n",
      "36200   4.3775e+17   2.03e+12   9.69e+05   1.00e-06   1.49e+01s\n",
      "36400   4.3778e+17   2.01e+12   7.67e+05   1.00e-06   1.50e+01s\n",
      "36600   4.3781e+17   2.02e+12   9.06e+05   1.00e-06   1.50e+01s\n",
      "36800   4.3784e+17   2.05e+12   8.91e+05   1.00e-06   1.51e+01s\n",
      "37000   4.3787e+17   2.08e+12   9.08e+05   1.00e-06   1.52e+01s\n",
      "37200   4.3791e+17   2.12e+12   1.22e+06   1.00e-06   1.53e+01s\n",
      "37400   4.3794e+17   2.15e+12   1.05e+06   1.00e-06   1.54e+01s\n",
      "37600   4.3799e+17   2.18e+12   8.73e+05   1.00e-06   1.54e+01s\n",
      "37800   4.3804e+17   2.21e+12   7.75e+05   1.00e-06   1.55e+01s\n",
      "38000   4.3811e+17   2.22e+12   1.02e+06   1.00e-06   1.56e+01s\n",
      "38200   4.3818e+17   2.23e+12   1.21e+06   1.00e-06   1.57e+01s\n",
      "38400   4.3826e+17   2.24e+12   1.14e+06   1.00e-06   1.58e+01s\n",
      "38600   4.3834e+17   2.24e+12   1.07e+06   1.00e-06   1.59e+01s\n",
      "38800   4.3844e+17   2.27e+12   8.02e+05   1.00e-06   1.59e+01s\n",
      "39000   4.3853e+17   2.29e+12   6.78e+05   1.00e-06   1.60e+01s\n",
      "39200   4.3863e+17   2.31e+12   7.16e+05   1.00e-06   1.61e+01s\n",
      "39400   4.3873e+17   2.33e+12   1.04e+06   1.00e-06   1.62e+01s\n",
      "39600   4.3883e+17   2.35e+12   1.09e+06   1.00e-06   1.63e+01s\n",
      "39800   4.3892e+17   2.37e+12   8.97e+05   1.00e-06   1.64e+01s\n",
      "40000   4.3901e+17   2.39e+12   1.01e+06   1.00e-06   1.65e+01s\n",
      "40200   4.3910e+17   2.41e+12   1.22e+06   1.00e-06   1.66e+01s\n",
      "40400   4.3919e+17   2.43e+12   1.21e+06   1.00e-06   1.67e+01s\n",
      "40600   4.3929e+17   2.46e+12   9.86e+05   1.00e-06   1.68e+01s\n",
      "40800   4.3939e+17   2.48e+12   1.16e+06   1.00e-06   1.68e+01s\n",
      "41000   4.3950e+17   2.51e+12   1.45e+06   1.00e-06   1.69e+01s\n",
      "41200   4.3962e+17   2.53e+12   1.39e+06   1.00e-06   1.70e+01s\n",
      "41400   4.3973e+17   2.55e+12   1.14e+06   1.00e-06   1.71e+01s\n",
      "41600   4.3984e+17   2.56e+12   6.82e+05   1.00e-06   1.72e+01s\n",
      "41800   4.3992e+17   2.57e+12   7.87e+05   1.00e-06   1.72e+01s\n",
      "42000   4.4000e+17   2.59e+12   1.07e+06   1.00e-06   1.73e+01s\n",
      "42200   4.4007e+17   2.60e+12   1.20e+06   1.00e-06   1.74e+01s\n",
      "42400   4.4013e+17   2.61e+12   1.41e+06   1.00e-06   1.75e+01s\n",
      "42600   4.4020e+17   2.62e+12   1.43e+06   1.00e-06   1.76e+01s\n",
      "42800   4.4025e+17   2.63e+12   1.20e+06   1.00e-06   1.76e+01s\n",
      "43000   4.4029e+17   2.64e+12   1.37e+06   1.00e-06   1.77e+01s\n",
      "43200   4.4031e+17   2.65e+12   1.77e+06   1.00e-06   1.78e+01s\n"
     ]
    },
    {
     "name": "stdout",
     "output_type": "stream",
     "text": [
      "43400   4.4031e+17   2.67e+12   1.75e+06   1.00e-06   1.79e+01s\n",
      "43600   4.4031e+17   2.68e+12   1.73e+06   1.00e-06   1.80e+01s\n",
      "43800   4.4029e+17   2.68e+12   1.47e+06   1.00e-06   1.80e+01s\n",
      "44000   4.4028e+17   2.69e+12   1.03e+06   1.00e-06   1.81e+01s\n",
      "44200   4.4026e+17   2.69e+12   8.70e+05   1.00e-06   1.82e+01s\n",
      "44400   4.4025e+17   2.68e+12   7.30e+05   1.00e-06   1.83e+01s\n",
      "44600   4.4023e+17   2.68e+12   9.64e+05   1.00e-06   1.84e+01s\n",
      "44800   4.4021e+17   2.67e+12   1.02e+06   1.00e-06   1.85e+01s\n",
      "45000   4.4018e+17   2.66e+12   9.15e+05   1.00e-06   1.85e+01s\n",
      "45200   4.4015e+17   2.65e+12   4.25e+05   1.00e-06   1.86e+01s\n",
      "45400   4.4012e+17   2.64e+12   1.84e+05   1.00e-06   1.87e+01s\n",
      "45600   4.4009e+17   2.64e+12   9.06e+05   1.00e-06   1.88e+01s\n",
      "45800   4.4006e+17   2.64e+12   1.11e+06   1.00e-06   1.88e+01s\n",
      "46000   4.4003e+17   2.63e+12   1.26e+06   1.00e-06   1.89e+01s\n",
      "46200   4.4000e+17   2.63e+12   1.24e+06   1.00e-06   1.90e+01s\n",
      "46400   4.3997e+17   2.63e+12   1.34e+06   1.00e-06   1.91e+01s\n",
      "46600   4.3994e+17   2.62e+12   1.31e+06   1.00e-06   1.92e+01s\n",
      "46800   4.3993e+17   2.60e+12   1.19e+06   1.00e-06   1.92e+01s\n",
      "47000   4.3993e+17   2.59e+12   1.01e+06   1.00e-06   1.93e+01s\n",
      "47200   4.3994e+17   2.56e+12   1.39e+06   1.00e-06   1.94e+01s\n",
      "47400   4.3996e+17   2.54e+12   1.74e+06   1.00e-06   1.95e+01s\n",
      "47600   4.3999e+17   2.53e+12   1.68e+06   1.00e-06   1.96e+01s\n",
      "47800   4.4002e+17   2.52e+12   1.29e+06   1.00e-06   1.96e+01s\n",
      "48000   4.4005e+17   2.51e+12   6.17e+05   1.00e-06   1.97e+01s\n",
      "48200   4.4008e+17   2.50e+12   3.44e+05   1.00e-06   1.98e+01s\n",
      "48400   4.4012e+17   2.50e+12   7.33e+05   1.00e-06   1.99e+01s\n",
      "48600   4.4016e+17   2.49e+12   1.26e+06   1.00e-06   1.99e+01s\n",
      "48800   4.4020e+17   2.48e+12   1.21e+06   1.00e-06   2.00e+01s\n",
      "49000   4.4025e+17   2.47e+12   8.41e+05   1.00e-06   2.01e+01s\n",
      "49200   4.4029e+17   2.46e+12   4.36e+05   1.00e-06   2.02e+01s\n",
      "49400   4.4034e+17   2.45e+12   4.99e+05   1.00e-06   2.02e+01s\n",
      "49600   4.4039e+17   2.43e+12   1.32e+06   1.00e-06   2.03e+01s\n",
      "49800   4.4043e+17   2.42e+12   1.88e+06   1.00e-06   2.04e+01s\n",
      "50000   4.4049e+17   2.40e+12   1.98e+06   1.00e-06   2.05e+01s\n",
      "50200   4.4054e+17   2.38e+12   1.96e+06   1.00e-06   2.05e+01s\n",
      "50400   4.4060e+17   2.36e+12   1.65e+06   1.00e-06   2.06e+01s\n",
      "50600   4.4067e+17   2.34e+12   1.19e+06   1.00e-06   2.07e+01s\n",
      "50800   4.4073e+17   2.32e+12   7.71e+05   1.00e-06   2.08e+01s\n",
      "51000   4.4080e+17   2.30e+12   2.20e+05   1.00e-06   2.08e+01s\n",
      "51200   4.4088e+17   2.28e+12   3.30e+05   1.00e-06   2.09e+01s\n",
      "51400   4.4095e+17   2.26e+12   6.96e+05   1.00e-06   2.10e+01s\n",
      "51600   4.4103e+17   2.24e+12   9.29e+05   1.00e-06   2.11e+01s\n",
      "51800   4.4112e+17   2.23e+12   8.41e+05   1.00e-06   2.11e+01s\n",
      "52000   4.4120e+17   2.21e+12   3.99e+05   1.00e-06   2.12e+01s\n",
      "52200   4.4127e+17   2.19e+12   6.41e+05   1.00e-06   2.13e+01s\n",
      "52400   4.4133e+17   2.17e+12   8.42e+05   1.00e-06   2.13e+01s\n",
      "52600   4.4138e+17   2.14e+12   9.09e+05   1.00e-06   2.14e+01s\n",
      "52800   4.4141e+17   2.12e+12   9.00e+05   1.00e-06   2.15e+01s\n",
      "53000   4.4144e+17   2.09e+12   8.09e+05   1.00e-06   2.16e+01s\n",
      "53200   4.4145e+17   2.07e+12   6.98e+05   1.00e-06   2.16e+01s\n",
      "53400   4.4147e+17   2.05e+12   4.32e+05   1.00e-06   2.17e+01s\n",
      "53600   4.4149e+17   2.05e+12   7.81e+05   1.00e-06   2.18e+01s\n",
      "53800   4.4151e+17   2.06e+12   1.19e+06   1.00e-06   2.19e+01s\n",
      "54000   4.4153e+17   2.07e+12   1.46e+06   1.00e-06   2.19e+01s\n",
      "54200   4.4155e+17   2.08e+12   1.59e+06   1.00e-06   2.20e+01s\n",
      "54400   4.4157e+17   2.08e+12   1.65e+06   1.00e-06   2.21e+01s\n",
      "54600   4.4159e+17   2.09e+12   1.42e+06   1.00e-06   2.21e+01s\n",
      "54800   4.4161e+17   2.09e+12   1.34e+06   1.00e-06   2.22e+01s\n",
      "55000   4.4163e+17   2.09e+12   1.57e+06   1.00e-06   2.23e+01s\n",
      "55200   4.4166e+17   2.09e+12   1.59e+06   1.00e-06   2.24e+01s\n",
      "55400   4.4168e+17   2.08e+12   1.35e+06   1.00e-06   2.24e+01s\n",
      "55600   4.4171e+17   2.08e+12   1.01e+06   1.00e-06   2.25e+01s\n",
      "55800   4.4174e+17   2.08e+12   9.53e+05   1.00e-06   2.26e+01s\n",
      "56000   4.4179e+17   2.09e+12   7.52e+05   1.00e-06   2.27e+01s\n",
      "56200   4.4184e+17   2.09e+12   7.40e+05   1.00e-06   2.27e+01s\n",
      "56400   4.4189e+17   2.09e+12   6.66e+05   1.00e-06   2.28e+01s\n",
      "56600   4.4196e+17   2.09e+12   8.64e+05   1.00e-06   2.29e+01s\n",
      "56800   4.4203e+17   2.09e+12   7.28e+05   1.00e-06   2.30e+01s\n",
      "57000   4.4211e+17   2.09e+12   4.83e+05   1.00e-06   2.30e+01s\n",
      "57200   4.4219e+17   2.09e+12   3.25e+05   1.00e-06   2.31e+01s\n",
      "57400   4.4229e+17   2.08e+12   6.53e+05   1.00e-06   2.32e+01s\n",
      "57600   4.4239e+17   2.08e+12   8.50e+05   1.00e-06   2.33e+01s\n",
      "57800   4.4251e+17   2.07e+12   1.19e+06   1.00e-06   2.33e+01s\n",
      "58000   4.4263e+17   2.06e+12   1.48e+06   1.00e-06   2.34e+01s\n",
      "58200   4.4275e+17   2.06e+12   1.52e+06   1.00e-06   2.35e+01s\n",
      "58400   4.4289e+17   2.05e+12   1.24e+06   1.00e-06   2.35e+01s\n",
      "58600   4.4303e+17   2.04e+12   9.66e+05   1.00e-06   2.36e+01s\n",
      "58800   4.4319e+17   2.04e+12   8.03e+05   1.00e-06   2.37e+01s\n",
      "59000   4.4336e+17   2.04e+12   9.13e+05   1.00e-06   2.38e+01s\n",
      "59200   4.4355e+17   2.04e+12   8.43e+05   1.00e-06   2.38e+01s\n",
      "59400   4.4373e+17   2.04e+12   9.88e+05   1.00e-06   2.39e+01s\n",
      "59600   4.4391e+17   2.04e+12   1.14e+06   1.00e-06   2.40e+01s\n",
      "59800   4.4408e+17   2.04e+12   1.30e+06   1.00e-06   2.41e+01s\n",
      "60000   4.4423e+17   2.04e+12   1.16e+06   1.00e-06   2.42e+01s\n",
      "60200   4.4437e+17   2.04e+12   1.11e+06   1.00e-06   2.42e+01s\n",
      "60400   4.4448e+17   2.04e+12   8.71e+05   1.00e-06   2.43e+01s\n",
      "60600   4.4458e+17   2.04e+12   8.14e+05   1.00e-06   2.44e+01s\n",
      "60800   4.4465e+17   2.05e+12   4.78e+05   1.00e-06   2.45e+01s\n",
      "61000   4.4470e+17   2.05e+12   2.55e+05   1.00e-06   2.45e+01s\n",
      "61200   4.4473e+17   2.06e+12   5.03e+05   1.00e-06   2.46e+01s\n",
      "61400   4.4474e+17   2.07e+12   8.37e+05   1.00e-06   2.47e+01s\n",
      "61600   4.4475e+17   2.08e+12   1.02e+06   1.00e-06   2.48e+01s\n",
      "61800   4.4477e+17   2.09e+12   1.14e+06   1.00e-06   2.48e+01s\n",
      "62000   4.4479e+17   2.10e+12   1.14e+06   1.00e-06   2.49e+01s\n",
      "62200   4.4481e+17   2.12e+12   1.05e+06   1.00e-06   2.50e+01s\n",
      "62400   4.4483e+17   2.13e+12   8.67e+05   1.00e-06   2.51e+01s\n",
      "62600   4.4485e+17   2.13e+12   6.43e+05   1.00e-06   2.51e+01s\n",
      "62800   4.4486e+17   2.14e+12   8.90e+05   1.00e-06   2.52e+01s\n",
      "63000   4.4487e+17   2.14e+12   9.65e+05   1.00e-06   2.53e+01s\n",
      "63200   4.4489e+17   2.14e+12   1.12e+06   1.00e-06   2.54e+01s\n",
      "63400   4.4491e+17   2.14e+12   1.20e+06   1.00e-06   2.54e+01s\n",
      "63600   4.4494e+17   2.14e+12   1.28e+06   1.00e-06   2.55e+01s\n",
      "63800   4.4497e+17   2.14e+12   1.10e+06   1.00e-06   2.56e+01s\n",
      "64000   4.4499e+17   2.14e+12   7.26e+05   1.00e-06   2.57e+01s\n",
      "64200   4.4501e+17   2.14e+12   4.61e+05   1.00e-06   2.57e+01s\n",
      "64400   4.4502e+17   2.15e+12   6.47e+05   1.00e-06   2.58e+01s\n",
      "64600   4.4502e+17   2.15e+12   5.88e+05   1.00e-06   2.59e+01s\n",
      "64800   4.4501e+17   2.16e+12   7.46e+05   1.00e-06   2.60e+01s\n",
      "65000   4.4500e+17   2.16e+12   7.98e+05   1.00e-06   2.60e+01s\n",
      "65200   4.4499e+17   2.16e+12   6.88e+05   1.00e-06   2.61e+01s\n",
      "65400   4.4498e+17   2.16e+12   9.03e+05   1.00e-06   2.62e+01s\n",
      "65600   4.4498e+17   2.16e+12   1.24e+06   1.00e-06   2.63e+01s\n",
      "65800   4.4497e+17   2.15e+12   1.35e+06   1.00e-06   2.63e+01s\n",
      "66000   4.4497e+17   2.15e+12   1.50e+06   1.00e-06   2.64e+01s\n",
      "66200   4.4497e+17   2.14e+12   1.39e+06   1.00e-06   2.65e+01s\n",
      "66400   4.4497e+17   2.14e+12   1.06e+06   1.00e-06   2.65e+01s\n",
      "66600   4.4497e+17   2.14e+12   1.40e+06   1.00e-06   2.66e+01s\n",
      "66800   4.4498e+17   2.14e+12   1.59e+06   1.00e-06   2.67e+01s\n",
      "67000   4.4499e+17   2.14e+12   1.60e+06   1.00e-06   2.68e+01s\n",
      "67200   4.4500e+17   2.14e+12   1.60e+06   1.00e-06   2.68e+01s\n",
      "67400   4.4500e+17   2.15e+12   1.42e+06   1.00e-06   2.69e+01s\n",
      "67600   4.4501e+17   2.18e+12   1.03e+06   1.00e-06   2.70e+01s\n",
      "67800   4.4502e+17   2.20e+12   7.87e+05   1.00e-06   2.71e+01s\n",
      "68000   4.4504e+17   2.22e+12   7.08e+05   1.00e-06   2.71e+01s\n",
      "68200   4.4506e+17   2.24e+12   1.14e+06   1.00e-06   2.72e+01s\n",
      "68400   4.4509e+17   2.25e+12   1.24e+06   1.00e-06   2.73e+01s\n",
      "68600   4.4512e+17   2.27e+12   1.27e+06   1.00e-06   2.74e+01s\n",
      "68800   4.4516e+17   2.28e+12   1.08e+06   1.00e-06   2.74e+01s\n",
      "69000   4.4521e+17   2.30e+12   6.98e+05   1.00e-06   2.75e+01s\n"
     ]
    },
    {
     "name": "stdout",
     "output_type": "stream",
     "text": [
      "69200   4.4525e+17   2.33e+12   3.89e+05   1.00e-06   2.76e+01s\n",
      "69400   4.4530e+17   2.36e+12   3.68e+05   1.00e-06   2.77e+01s\n",
      "69600   4.4535e+17   2.39e+12   7.30e+05   1.00e-06   2.77e+01s\n",
      "69800   4.4540e+17   2.43e+12   1.03e+06   1.00e-06   2.78e+01s\n",
      "70000   4.4544e+17   2.46e+12   1.10e+06   1.00e-06   2.79e+01s\n",
      "70200   4.4549e+17   2.48e+12   8.64e+05   1.00e-06   2.79e+01s\n",
      "70400   4.4553e+17   2.51e+12   6.92e+05   1.00e-06   2.80e+01s\n",
      "70600   4.4557e+17   2.54e+12   6.69e+05   1.00e-06   2.81e+01s\n",
      "70800   4.4561e+17   2.56e+12   1.06e+06   1.00e-06   2.82e+01s\n",
      "71000   4.4565e+17   2.58e+12   1.55e+06   1.00e-06   2.82e+01s\n",
      "71200   4.4569e+17   2.60e+12   1.73e+06   1.00e-06   2.83e+01s\n",
      "71400   4.4574e+17   2.63e+12   1.58e+06   1.00e-06   2.84e+01s\n",
      "71600   4.4579e+17   2.65e+12   9.62e+05   1.00e-06   2.85e+01s\n",
      "71800   4.4584e+17   2.67e+12   2.91e+05   1.00e-06   2.85e+01s\n",
      "72000   4.4589e+17   2.69e+12   7.83e+05   1.00e-06   2.86e+01s\n",
      "72200   4.4594e+17   2.71e+12   1.45e+06   1.00e-06   2.87e+01s\n",
      "72400   4.4599e+17   2.74e+12   1.92e+06   1.00e-06   2.88e+01s\n",
      "72600   4.4603e+17   2.76e+12   1.98e+06   1.00e-06   2.89e+01s\n",
      "72800   4.4608e+17   2.78e+12   2.02e+06   1.00e-06   2.89e+01s\n",
      "73000   4.4613e+17   2.80e+12   1.59e+06   1.00e-06   2.90e+01s\n",
      "73200   4.4617e+17   2.81e+12   1.01e+06   1.00e-06   2.91e+01s\n",
      "73400   4.4621e+17   2.83e+12   5.69e+05   1.00e-06   2.92e+01s\n",
      "73600   4.4626e+17   2.84e+12   3.07e+05   1.00e-06   2.93e+01s\n",
      "73800   4.4630e+17   2.86e+12   3.50e+05   1.00e-06   2.93e+01s\n",
      "74000   4.4636e+17   2.87e+12   3.92e+05   1.00e-06   2.94e+01s\n",
      "74200   4.4643e+17   2.88e+12   2.35e+05   1.00e-06   2.95e+01s\n",
      "74400   4.4651e+17   2.88e+12   4.60e+05   1.00e-06   2.96e+01s\n",
      "74600   4.4659e+17   2.89e+12   9.51e+05   1.00e-06   2.97e+01s\n",
      "74800   4.4667e+17   2.89e+12   1.64e+06   1.00e-06   2.97e+01s\n",
      "75000   4.4674e+17   2.89e+12   1.98e+06   1.00e-06   2.98e+01s\n",
      "75200   4.4681e+17   2.90e+12   1.90e+06   1.00e-06   2.99e+01s\n",
      "75400   4.4686e+17   2.90e+12   1.63e+06   1.00e-06   3.00e+01s\n",
      "75600   4.4691e+17   2.90e+12   1.12e+06   1.00e-06   3.01e+01s\n",
      "75800   4.4694e+17   2.90e+12   5.36e+05   1.00e-06   3.02e+01s\n",
      "76000   4.4696e+17   2.89e+12   7.80e+05   1.00e-06   3.03e+01s\n",
      "76200   4.4698e+17   2.89e+12   1.20e+06   1.00e-06   3.03e+01s\n",
      "76400   4.4699e+17   2.88e+12   1.57e+06   1.00e-06   3.04e+01s\n",
      "76600   4.4700e+17   2.87e+12   1.90e+06   1.00e-06   3.05e+01s\n",
      "76800   4.4701e+17   2.85e+12   1.76e+06   1.00e-06   3.06e+01s\n",
      "77000   4.4702e+17   2.84e+12   1.45e+06   1.00e-06   3.06e+01s\n",
      "77200   4.4704e+17   2.83e+12   1.28e+06   1.00e-06   3.07e+01s\n",
      "77400   4.4706e+17   2.81e+12   9.65e+05   1.00e-06   3.08e+01s\n",
      "77600   4.4708e+17   2.80e+12   6.21e+05   1.00e-06   3.09e+01s\n",
      "77800   4.4711e+17   2.78e+12   6.52e+05   1.00e-06   3.10e+01s\n",
      "78000   4.4713e+17   2.77e+12   6.70e+05   1.00e-06   3.10e+01s\n",
      "78200   4.4716e+17   2.76e+12   1.06e+06   1.00e-06   3.11e+01s\n",
      "78400   4.4720e+17   2.74e+12   1.34e+06   1.00e-06   3.12e+01s\n",
      "78600   4.4724e+17   2.72e+12   1.68e+06   1.00e-06   3.13e+01s\n",
      "78800   4.4728e+17   2.70e+12   1.93e+06   1.00e-06   3.14e+01s\n",
      "79000   4.4732e+17   2.68e+12   2.03e+06   1.00e-06   3.14e+01s\n",
      "79200   4.4735e+17   2.66e+12   1.96e+06   1.00e-06   3.15e+01s\n",
      "79400   4.4738e+17   2.63e+12   1.49e+06   1.00e-06   3.16e+01s\n",
      "79600   4.4741e+17   2.61e+12   9.89e+05   1.00e-06   3.17e+01s\n",
      "79800   4.4745e+17   2.59e+12   8.06e+05   1.00e-06   3.17e+01s\n",
      "80000   4.4749e+17   2.56e+12   9.48e+05   1.00e-06   3.18e+01s\n",
      "80200   4.4753e+17   2.54e+12   1.02e+06   1.00e-06   3.19e+01s\n",
      "80400   4.4758e+17   2.52e+12   1.11e+06   1.00e-06   3.20e+01s\n",
      "80600   4.4762e+17   2.49e+12   9.19e+05   1.00e-06   3.20e+01s\n",
      "80800   4.4766e+17   2.46e+12   7.91e+05   1.00e-06   3.21e+01s\n",
      "81000   4.4770e+17   2.43e+12   4.84e+05   1.00e-06   3.22e+01s\n",
      "81200   4.4773e+17   2.40e+12   5.00e+05   1.00e-06   3.22e+01s\n",
      "81400   4.4775e+17   2.37e+12   9.13e+05   1.00e-06   3.23e+01s\n",
      "81600   4.4777e+17   2.33e+12   1.24e+06   1.00e-06   3.24e+01s\n",
      "81800   4.4778e+17   2.29e+12   1.38e+06   1.00e-06   3.25e+01s\n",
      "82000   4.4780e+17   2.26e+12   1.28e+06   1.00e-06   3.26e+01s\n",
      "82200   4.4782e+17   2.22e+12   1.01e+06   1.00e-06   3.26e+01s\n",
      "82400   4.4784e+17   2.18e+12   8.36e+05   1.00e-06   3.27e+01s\n",
      "82600   4.4788e+17   2.17e+12   1.20e+06   1.00e-06   3.28e+01s\n",
      "82800   4.4792e+17   2.16e+12   1.15e+06   1.00e-06   3.29e+01s\n",
      "83000   4.4799e+17   2.15e+12   1.21e+06   1.00e-06   3.30e+01s\n",
      "83200   4.4806e+17   2.14e+12   1.15e+06   1.00e-06   3.30e+01s\n",
      "83400   4.4813e+17   2.13e+12   8.41e+05   1.00e-06   3.31e+01s\n",
      "83600   4.4822e+17   2.11e+12   9.39e+05   1.00e-06   3.32e+01s\n",
      "83800   4.4830e+17   2.10e+12   1.07e+06   1.00e-06   3.33e+01s\n",
      "84000   4.4840e+17   2.10e+12   9.74e+05   1.00e-06   3.34e+01s\n",
      "84200   4.4849e+17   2.10e+12   9.24e+05   1.00e-06   3.35e+01s\n",
      "84400   4.4858e+17   2.10e+12   7.02e+05   1.00e-06   3.36e+01s\n",
      "84600   4.4867e+17   2.10e+12   3.93e+05   1.00e-06   3.37e+01s\n",
      "84800   4.4876e+17   2.10e+12   2.88e+05   1.00e-06   3.38e+01s\n",
      "85000   4.4884e+17   2.10e+12   5.34e+05   1.00e-06   3.39e+01s\n",
      "85200   4.4891e+17   2.11e+12   1.01e+06   1.00e-06   3.40e+01s\n",
      "85400   4.4898e+17   2.11e+12   1.29e+06   1.00e-06   3.40e+01s\n",
      "85600   4.4904e+17   2.11e+12   1.60e+06   1.00e-06   3.41e+01s\n",
      "85800   4.4910e+17   2.12e+12   1.43e+06   1.00e-06   3.42e+01s\n",
      "86000   4.4914e+17   2.13e+12   1.13e+06   1.00e-06   3.43e+01s\n",
      "86200   4.4918e+17   2.13e+12   1.03e+06   1.00e-06   3.43e+01s\n",
      "86400   4.4921e+17   2.13e+12   9.12e+05   1.00e-06   3.44e+01s\n",
      "86600   4.4924e+17   2.13e+12   9.20e+05   1.00e-06   3.45e+01s\n",
      "86800   4.4927e+17   2.13e+12   1.02e+06   1.00e-06   3.46e+01s\n",
      "87000   4.4931e+17   2.13e+12   1.13e+06   1.00e-06   3.47e+01s\n",
      "87200   4.4934e+17   2.13e+12   1.02e+06   1.00e-06   3.48e+01s\n",
      "87400   4.4938e+17   2.13e+12   7.26e+05   1.00e-06   3.49e+01s\n",
      "87600   4.4941e+17   2.13e+12   5.43e+05   1.00e-06   3.49e+01s\n",
      "87800   4.4944e+17   2.13e+12   5.33e+05   1.00e-06   3.50e+01s\n",
      "88000   4.4947e+17   2.13e+12   8.90e+05   1.00e-06   3.51e+01s\n",
      "88200   4.4949e+17   2.12e+12   8.55e+05   1.00e-06   3.52e+01s\n",
      "88400   4.4952e+17   2.12e+12   6.15e+05   1.00e-06   3.52e+01s\n",
      "88600   4.4954e+17   2.11e+12   3.82e+05   1.00e-06   3.53e+01s\n",
      "88800   4.4957e+17   2.11e+12   6.32e+05   1.00e-06   3.54e+01s\n",
      "89000   4.4960e+17   2.10e+12   1.35e+06   1.00e-06   3.55e+01s\n",
      "89200   4.4962e+17   2.10e+12   1.93e+06   1.00e-06   3.56e+01s\n",
      "89400   4.4963e+17   2.09e+12   2.52e+06   1.00e-06   3.56e+01s\n",
      "89600   4.4963e+17   2.08e+12   2.90e+06   1.00e-06   3.57e+01s\n",
      "89800   4.4962e+17   2.07e+12   3.00e+06   1.00e-06   3.58e+01s\n",
      "90000   4.4961e+17   2.06e+12   2.53e+06   1.00e-06   3.59e+01s\n",
      "90200   4.4960e+17   2.04e+12   1.92e+06   1.00e-06   3.59e+01s\n",
      "90400   4.4960e+17   2.03e+12   1.33e+06   1.00e-06   3.60e+01s\n",
      "90600   4.4960e+17   2.02e+12   6.21e+05   1.00e-06   3.61e+01s\n",
      "90800   4.4960e+17   2.01e+12   3.80e+05   1.00e-06   3.62e+01s\n",
      "91000   4.4960e+17   2.01e+12   3.17e+05   1.00e-06   3.63e+01s\n",
      "91200   4.4960e+17   2.01e+12   2.27e+05   1.00e-06   3.63e+01s\n",
      "91400   4.4962e+17   2.02e+12   3.67e+05   1.00e-06   3.64e+01s\n",
      "91600   4.4964e+17   2.02e+12   9.65e+05   1.00e-06   3.65e+01s\n",
      "91800   4.4967e+17   2.02e+12   1.27e+06   1.00e-06   3.66e+01s\n",
      "92000   4.4971e+17   2.02e+12   1.52e+06   1.00e-06   3.66e+01s\n",
      "92200   4.4976e+17   2.02e+12   1.35e+06   1.00e-06   3.67e+01s\n",
      "92400   4.4983e+17   2.01e+12   1.28e+06   1.00e-06   3.68e+01s\n",
      "92600   4.4990e+17   2.01e+12   9.39e+05   1.00e-06   3.69e+01s\n",
      "92800   4.4999e+17   2.03e+12   4.00e+05   1.00e-06   3.70e+01s\n",
      "93000   4.5008e+17   2.05e+12   3.47e+05   1.00e-06   3.70e+01s\n",
      "93200   4.5019e+17   2.07e+12   7.06e+05   1.00e-06   3.71e+01s\n",
      "93400   4.5030e+17   2.09e+12   1.49e+06   1.00e-06   3.72e+01s\n",
      "93600   4.5042e+17   2.11e+12   1.81e+06   1.00e-06   3.73e+01s\n",
      "93800   4.5053e+17   2.13e+12   2.03e+06   1.00e-06   3.73e+01s\n",
      "94000   4.5065e+17   2.15e+12   1.71e+06   1.00e-06   3.74e+01s\n",
      "94200   4.5076e+17   2.17e+12   1.46e+06   1.00e-06   3.75e+01s\n",
      "94400   4.5087e+17   2.19e+12   7.64e+05   1.00e-06   3.76e+01s\n",
      "94600   4.5099e+17   2.21e+12   7.25e+05   1.00e-06   3.76e+01s\n",
      "94800   4.5113e+17   2.22e+12   9.45e+05   1.00e-06   3.77e+01s\n"
     ]
    },
    {
     "name": "stdout",
     "output_type": "stream",
     "text": [
      "95000   4.5128e+17   2.24e+12   1.03e+06   1.00e-06   3.78e+01s\n",
      "95200   4.5143e+17   2.25e+12   1.09e+06   1.00e-06   3.79e+01s\n",
      "95400   4.5160e+17   2.26e+12   9.66e+05   1.00e-06   3.79e+01s\n",
      "95600   4.5176e+17   2.28e+12   7.89e+05   1.00e-06   3.80e+01s\n",
      "95800   4.5192e+17   2.29e+12   5.57e+05   1.00e-06   3.81e+01s\n",
      "96000   4.5207e+17   2.30e+12   9.29e+05   1.00e-06   3.82e+01s\n",
      "96200   4.5220e+17   2.30e+12   9.82e+05   1.00e-06   3.83e+01s\n",
      "96400   4.5231e+17   2.31e+12   9.41e+05   1.00e-06   3.83e+01s\n",
      "96600   4.5240e+17   2.32e+12   9.92e+05   1.00e-06   3.84e+01s\n",
      "96800   4.5247e+17   2.32e+12   6.80e+05   1.00e-06   3.85e+01s\n",
      "97000   4.5252e+17   2.33e+12   5.76e+05   1.00e-06   3.86e+01s\n",
      "97200   4.5254e+17   2.34e+12   6.23e+05   1.00e-06   3.86e+01s\n",
      "97400   4.5255e+17   2.35e+12   4.79e+05   1.00e-06   3.87e+01s\n",
      "97600   4.5254e+17   2.35e+12   8.79e+05   1.00e-06   3.88e+01s\n",
      "97800   4.5252e+17   2.37e+12   7.54e+05   1.00e-06   3.89e+01s\n",
      "98000   4.5251e+17   2.39e+12   5.35e+05   1.00e-06   3.90e+01s\n",
      "98200   4.5249e+17   2.41e+12   8.58e+05   1.00e-06   3.90e+01s\n",
      "98400   4.5247e+17   2.44e+12   1.14e+06   1.00e-06   3.91e+01s\n",
      "98600   4.5243e+17   2.47e+12   1.24e+06   1.00e-06   3.92e+01s\n",
      "98800   4.5240e+17   2.50e+12   1.48e+06   1.00e-06   3.93e+01s\n",
      "99000   4.5235e+17   2.53e+12   1.35e+06   1.00e-06   3.94e+01s\n",
      "99200   4.5230e+17   2.55e+12   1.30e+06   1.00e-06   3.94e+01s\n",
      "99400   4.5226e+17   2.58e+12   1.22e+06   1.00e-06   3.95e+01s\n",
      "99600   4.5222e+17   2.60e+12   1.01e+06   1.00e-06   3.96e+01s\n",
      "99800   4.5218e+17   2.62e+12   8.26e+05   1.00e-06   3.97e+01s\n",
      "100000   4.5214e+17   2.63e+12   5.80e+05   1.00e-06   3.97e+01s\n",
      "\n",
      "status:               maximum iterations reached\n",
      "number of iterations: 100000\n",
      "run time:             3.97e+01s\n",
      "optimal rho estimate: 1.00e-06\n",
      "\n"
     ]
    },
    {
     "ename": "SolverError",
     "evalue": "Solver 'OSQP' failed. Try another solver, or solve with verbose=True for more information.",
     "output_type": "error",
     "traceback": [
      "\u001b[0;31m---------------------------------------------------------------------------\u001b[0m",
      "\u001b[0;31mSolverError\u001b[0m                               Traceback (most recent call last)",
      "\u001b[0;32m/tmp/ipykernel_7407/1477663101.py\u001b[0m in \u001b[0;36m<module>\u001b[0;34m\u001b[0m\n\u001b[1;32m      2\u001b[0m \u001b[0mobj\u001b[0m \u001b[0;34m=\u001b[0m \u001b[0mcp\u001b[0m\u001b[0;34m.\u001b[0m\u001b[0mMinimize\u001b[0m\u001b[0;34m(\u001b[0m\u001b[0mcp\u001b[0m\u001b[0;34m.\u001b[0m\u001b[0msum_squares\u001b[0m\u001b[0;34m(\u001b[0m\u001b[0mY_hat\u001b[0m\u001b[0;34m[\u001b[0m\u001b[0;34m:\u001b[0m\u001b[0;34m,\u001b[0m\u001b[0mn\u001b[0m\u001b[0;34m:\u001b[0m\u001b[0;34m]\u001b[0m \u001b[0;34m-\u001b[0m \u001b[0mY\u001b[0m\u001b[0;34m[\u001b[0m\u001b[0;34m:\u001b[0m\u001b[0;34m,\u001b[0m\u001b[0mn\u001b[0m\u001b[0;34m:\u001b[0m\u001b[0;34m]\u001b[0m\u001b[0;34m)\u001b[0m \u001b[0;34m+\u001b[0m \u001b[0mlambda_\u001b[0m\u001b[0;34m*\u001b[0m\u001b[0mcp\u001b[0m\u001b[0;34m.\u001b[0m\u001b[0mnorm1\u001b[0m\u001b[0;34m(\u001b[0m\u001b[0mC\u001b[0m\u001b[0;34m)\u001b[0m\u001b[0;34m)\u001b[0m\u001b[0;34m\u001b[0m\u001b[0;34m\u001b[0m\u001b[0m\n\u001b[1;32m      3\u001b[0m \u001b[0mp\u001b[0m \u001b[0;34m=\u001b[0m \u001b[0mcp\u001b[0m\u001b[0;34m.\u001b[0m\u001b[0mProblem\u001b[0m\u001b[0;34m(\u001b[0m\u001b[0mobj\u001b[0m\u001b[0;34m,\u001b[0m\u001b[0mconstraints\u001b[0m\u001b[0;34m)\u001b[0m\u001b[0;34m\u001b[0m\u001b[0;34m\u001b[0m\u001b[0m\n\u001b[0;32m----> 4\u001b[0;31m \u001b[0mp\u001b[0m\u001b[0;34m.\u001b[0m\u001b[0msolve\u001b[0m\u001b[0;34m(\u001b[0m\u001b[0mverbose\u001b[0m\u001b[0;34m=\u001b[0m\u001b[0;32mTrue\u001b[0m\u001b[0;34m,\u001b[0m\u001b[0mmax_iter\u001b[0m\u001b[0;34m=\u001b[0m\u001b[0;36m100000\u001b[0m\u001b[0;34m)\u001b[0m\u001b[0;34m\u001b[0m\u001b[0;34m\u001b[0m\u001b[0m\n\u001b[0m",
      "\u001b[0;32m~/anaconda3/lib/python3.9/site-packages/cvxpy/problems/problem.py\u001b[0m in \u001b[0;36msolve\u001b[0;34m(self, *args, **kwargs)\u001b[0m\n\u001b[1;32m    479\u001b[0m         \u001b[0;32melse\u001b[0m\u001b[0;34m:\u001b[0m\u001b[0;34m\u001b[0m\u001b[0;34m\u001b[0m\u001b[0m\n\u001b[1;32m    480\u001b[0m             \u001b[0msolve_func\u001b[0m \u001b[0;34m=\u001b[0m \u001b[0mProblem\u001b[0m\u001b[0;34m.\u001b[0m\u001b[0m_solve\u001b[0m\u001b[0;34m\u001b[0m\u001b[0;34m\u001b[0m\u001b[0m\n\u001b[0;32m--> 481\u001b[0;31m         \u001b[0;32mreturn\u001b[0m \u001b[0msolve_func\u001b[0m\u001b[0;34m(\u001b[0m\u001b[0mself\u001b[0m\u001b[0;34m,\u001b[0m \u001b[0;34m*\u001b[0m\u001b[0margs\u001b[0m\u001b[0;34m,\u001b[0m \u001b[0;34m**\u001b[0m\u001b[0mkwargs\u001b[0m\u001b[0;34m)\u001b[0m\u001b[0;34m\u001b[0m\u001b[0;34m\u001b[0m\u001b[0m\n\u001b[0m\u001b[1;32m    482\u001b[0m \u001b[0;34m\u001b[0m\u001b[0m\n\u001b[1;32m    483\u001b[0m     \u001b[0;34m@\u001b[0m\u001b[0mclassmethod\u001b[0m\u001b[0;34m\u001b[0m\u001b[0;34m\u001b[0m\u001b[0m\n",
      "\u001b[0;32m~/anaconda3/lib/python3.9/site-packages/cvxpy/problems/problem.py\u001b[0m in \u001b[0;36m_solve\u001b[0;34m(self, solver, warm_start, verbose, gp, qcp, requires_grad, enforce_dpp, ignore_dpp, **kwargs)\u001b[0m\n\u001b[1;32m   1018\u001b[0m         \u001b[0mend\u001b[0m \u001b[0;34m=\u001b[0m \u001b[0mtime\u001b[0m\u001b[0;34m.\u001b[0m\u001b[0mtime\u001b[0m\u001b[0;34m(\u001b[0m\u001b[0;34m)\u001b[0m\u001b[0;34m\u001b[0m\u001b[0;34m\u001b[0m\u001b[0m\n\u001b[1;32m   1019\u001b[0m         \u001b[0mself\u001b[0m\u001b[0;34m.\u001b[0m\u001b[0m_solve_time\u001b[0m \u001b[0;34m=\u001b[0m \u001b[0mend\u001b[0m \u001b[0;34m-\u001b[0m \u001b[0mstart\u001b[0m\u001b[0;34m\u001b[0m\u001b[0;34m\u001b[0m\u001b[0m\n\u001b[0;32m-> 1020\u001b[0;31m         \u001b[0mself\u001b[0m\u001b[0;34m.\u001b[0m\u001b[0munpack_results\u001b[0m\u001b[0;34m(\u001b[0m\u001b[0msolution\u001b[0m\u001b[0;34m,\u001b[0m \u001b[0msolving_chain\u001b[0m\u001b[0;34m,\u001b[0m \u001b[0minverse_data\u001b[0m\u001b[0;34m)\u001b[0m\u001b[0;34m\u001b[0m\u001b[0;34m\u001b[0m\u001b[0m\n\u001b[0m\u001b[1;32m   1021\u001b[0m         \u001b[0;32mif\u001b[0m \u001b[0mverbose\u001b[0m\u001b[0;34m:\u001b[0m\u001b[0;34m\u001b[0m\u001b[0;34m\u001b[0m\u001b[0m\n\u001b[1;32m   1022\u001b[0m             \u001b[0mprint\u001b[0m\u001b[0;34m(\u001b[0m\u001b[0m_FOOTER\u001b[0m\u001b[0;34m)\u001b[0m\u001b[0;34m\u001b[0m\u001b[0;34m\u001b[0m\u001b[0m\n",
      "\u001b[0;32m~/anaconda3/lib/python3.9/site-packages/cvxpy/problems/problem.py\u001b[0m in \u001b[0;36munpack_results\u001b[0;34m(self, solution, chain, inverse_data)\u001b[0m\n\u001b[1;32m   1343\u001b[0m             \u001b[0mwarnings\u001b[0m\u001b[0;34m.\u001b[0m\u001b[0mwarn\u001b[0m\u001b[0;34m(\u001b[0m\u001b[0mINF_OR_UNB_MESSAGE\u001b[0m\u001b[0;34m)\u001b[0m\u001b[0;34m\u001b[0m\u001b[0;34m\u001b[0m\u001b[0m\n\u001b[1;32m   1344\u001b[0m         \u001b[0;32mif\u001b[0m \u001b[0msolution\u001b[0m\u001b[0;34m.\u001b[0m\u001b[0mstatus\u001b[0m \u001b[0;32min\u001b[0m \u001b[0ms\u001b[0m\u001b[0;34m.\u001b[0m\u001b[0mERROR\u001b[0m\u001b[0;34m:\u001b[0m\u001b[0;34m\u001b[0m\u001b[0;34m\u001b[0m\u001b[0m\n\u001b[0;32m-> 1345\u001b[0;31m             raise error.SolverError(\n\u001b[0m\u001b[1;32m   1346\u001b[0m                     \u001b[0;34m\"Solver '%s' failed. \"\u001b[0m \u001b[0;34m%\u001b[0m \u001b[0mchain\u001b[0m\u001b[0;34m.\u001b[0m\u001b[0msolver\u001b[0m\u001b[0;34m.\u001b[0m\u001b[0mname\u001b[0m\u001b[0;34m(\u001b[0m\u001b[0;34m)\u001b[0m \u001b[0;34m+\u001b[0m\u001b[0;34m\u001b[0m\u001b[0;34m\u001b[0m\u001b[0m\n\u001b[1;32m   1347\u001b[0m                     \u001b[0;34m\"Try another solver, or solve with verbose=True for more \"\u001b[0m\u001b[0;34m\u001b[0m\u001b[0;34m\u001b[0m\u001b[0m\n",
      "\u001b[0;31mSolverError\u001b[0m: Solver 'OSQP' failed. Try another solver, or solve with verbose=True for more information."
     ]
    }
   ],
   "source": [
    "lambda_ = 100\n",
    "obj = cp.Minimize(cp.sum_squares(Y_hat[:,n:] - Y[:,n:]) + lambda_*cp.norm1(C))\n",
    "p = cp.Problem(obj,constraints)\n",
    "p.solve(verbose=True,max_iter=100000)"
   ]
  },
  {
   "cell_type": "code",
   "execution_count": 31,
   "id": "30099eed",
   "metadata": {},
   "outputs": [
    {
     "data": {
      "text/plain": [
       "Timestamp('2020-02-25 00:00:00')"
      ]
     },
     "execution_count": 31,
     "metadata": {},
     "output_type": "execute_result"
    }
   ],
   "source": [
    "min_date"
   ]
  },
  {
   "cell_type": "code",
   "execution_count": 32,
   "id": "adcf1eda",
   "metadata": {},
   "outputs": [
    {
     "data": {
      "text/plain": [
       "Timestamp('2021-10-07 00:00:00')"
      ]
     },
     "execution_count": 32,
     "metadata": {},
     "output_type": "execute_result"
    }
   ],
   "source": [
    "max_date"
   ]
  }
 ],
 "metadata": {
  "kernelspec": {
   "display_name": "Python 3 (ipykernel)",
   "language": "python",
   "name": "python3"
  },
  "language_info": {
   "codemirror_mode": {
    "name": "ipython",
    "version": 3
   },
   "file_extension": ".py",
   "mimetype": "text/x-python",
   "name": "python",
   "nbconvert_exporter": "python",
   "pygments_lexer": "ipython3",
   "version": "3.9.7"
  }
 },
 "nbformat": 4,
 "nbformat_minor": 5
}
